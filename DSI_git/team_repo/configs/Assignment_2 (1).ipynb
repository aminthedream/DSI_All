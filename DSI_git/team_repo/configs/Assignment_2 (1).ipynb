{
 "cells": [
  {
   "cell_type": "markdown",
   "id": "8db0d7a3-39b9-4498-85cb-d9d75f914304",
   "metadata": {},
   "source": [
    "# Assignment 2"
   ]
  },
  {
   "cell_type": "markdown",
   "id": "7fc97cd7-933f-4bac-804a-1f2cf85ebad6",
   "metadata": {},
   "source": [
    "This assignment is due on __Thursday 25 January__, by midnight. It pertains to content taught in classes 4-6, i.e., week 2, but is weighted towards classes 4 and 5. \n",
    "\n",
    "This assignment should be completed in Python, and an PDF file should be submitted, containing both code and written answers. If you like, you may create your own Jupyter Notebook file from scratch, but it is likely easier to modify this one.\n",
    "\n",
    "As before, questions that require identification and/or interpretation will not penalized for brevity of response: if a question can be answered with 'yes/no', or a numeric value, you may simply state as much. If you incorporate code from the internet (which is not required and generally not advisable), please cite the source within your code (providing a URL is sufficient).\n",
    "\n",
    "If you like, you may collaborate with others in the class. If you choose to do so, please indicate with whom you have worked at the top of your PDF. Separate submissions are required.\n",
    "\n",
    "Any questions can be addressed to Kamilah ([kamilah.ebrahim@mail.utoronto.ca]()) and/or Ananya ([ananya.jha@mail.utoronto.ca]()) before the due-date. Please sumbit your assistments through this [link](https://forms.gle/nNJMjBRzDVaRKMBA9).\n",
    "\n",
    "### Set up"
   ]
  },
  {
   "cell_type": "code",
   "execution_count": 27,
   "id": "8818070b",
   "metadata": {},
   "outputs": [],
   "source": [
    "import faraway as fw\n"
   ]
  },
  {
   "cell_type": "code",
   "execution_count": 40,
   "id": "589d262b-0089-4b1a-821d-d55570e0d38f",
   "metadata": {},
   "outputs": [
    {
     "ename": "OSError",
     "evalue": "Could not find/load shared object file: libllvmlite.dylib\n Error was: dlopen(/Users/amin/anaconda3/lib/python3.11/site-packages/llvmlite/binding/libllvmlite.dylib, 0x0006): Library not loaded: @rpath/libLLVM-14.dylib\n  Referenced from: /Users/amin/anaconda3/lib/python3.11/site-packages/llvmlite/binding/libllvmlite.dylib\n  Reason: tried: '/Users/amin/anaconda3/lib/python3.11/site-packages/llvmlite/binding/../../../../libLLVM-14.dylib' (no such file), '/Users/amin/anaconda3/lib/python3.11/site-packages/llvmlite/binding/../../../../libLLVM-14.dylib' (no such file), '/Users/amin/anaconda3/lib/python3.11/lib-dynload/../../libLLVM-14.dylib' (no such file), '/Users/amin/anaconda3/bin/../lib/libLLVM-14.dylib' (no such file), '/usr/local/lib/libLLVM-14.dylib' (no such file), '/usr/lib/libLLVM-14.dylib' (no such file)",
     "output_type": "error",
     "traceback": [
      "\u001b[0;31m---------------------------------------------------------------------------\u001b[0m",
      "\u001b[0;31mOSError\u001b[0m                                   Traceback (most recent call last)",
      "File \u001b[0;32m~/anaconda3/lib/python3.11/site-packages/llvmlite/binding/ffi.py:180\u001b[0m\n\u001b[1;32m    179\u001b[0m _lib_handle \u001b[38;5;241m=\u001b[39m _importlib_resources_path(pkgname, _lib_name)\n\u001b[0;32m--> 180\u001b[0m lib \u001b[38;5;241m=\u001b[39m ctypes\u001b[38;5;241m.\u001b[39mCDLL(\u001b[38;5;28mstr\u001b[39m(_lib_handle\u001b[38;5;241m.\u001b[39m\u001b[38;5;21m__enter__\u001b[39m()))\n\u001b[1;32m    181\u001b[0m \u001b[38;5;66;03m# on windows file handles to the dll file remain open after\u001b[39;00m\n\u001b[1;32m    182\u001b[0m \u001b[38;5;66;03m# loading, therefore we can not exit the context manager\u001b[39;00m\n\u001b[1;32m    183\u001b[0m \u001b[38;5;66;03m# which might delete the file\u001b[39;00m\n",
      "File \u001b[0;32m~/anaconda3/lib/python3.11/ctypes/__init__.py:376\u001b[0m, in \u001b[0;36mCDLL.__init__\u001b[0;34m(self, name, mode, handle, use_errno, use_last_error, winmode)\u001b[0m\n\u001b[1;32m    375\u001b[0m \u001b[38;5;28;01mif\u001b[39;00m handle \u001b[38;5;129;01mis\u001b[39;00m \u001b[38;5;28;01mNone\u001b[39;00m:\n\u001b[0;32m--> 376\u001b[0m     \u001b[38;5;28mself\u001b[39m\u001b[38;5;241m.\u001b[39m_handle \u001b[38;5;241m=\u001b[39m _dlopen(\u001b[38;5;28mself\u001b[39m\u001b[38;5;241m.\u001b[39m_name, mode)\n\u001b[1;32m    377\u001b[0m \u001b[38;5;28;01melse\u001b[39;00m:\n",
      "\u001b[0;31mOSError\u001b[0m: dlopen(/Users/amin/anaconda3/lib/python3.11/site-packages/llvmlite/binding/libllvmlite.dylib, 0x0006): Library not loaded: @rpath/libLLVM-14.dylib\n  Referenced from: /Users/amin/anaconda3/lib/python3.11/site-packages/llvmlite/binding/libllvmlite.dylib\n  Reason: tried: '/Users/amin/anaconda3/lib/python3.11/site-packages/llvmlite/binding/../../../../libLLVM-14.dylib' (no such file), '/Users/amin/anaconda3/lib/python3.11/site-packages/llvmlite/binding/../../../../libLLVM-14.dylib' (no such file), '/Users/amin/anaconda3/lib/python3.11/lib-dynload/../../libLLVM-14.dylib' (no such file), '/Users/amin/anaconda3/bin/../lib/libLLVM-14.dylib' (no such file), '/usr/local/lib/libLLVM-14.dylib' (no such file), '/usr/lib/libLLVM-14.dylib' (no such file)",
      "\nDuring handling of the above exception, another exception occurred:\n",
      "\u001b[0;31mOSError\u001b[0m                                   Traceback (most recent call last)",
      "Cell \u001b[0;32mIn[40], line 13\u001b[0m\n\u001b[1;32m     10\u001b[0m \u001b[38;5;28;01mfrom\u001b[39;00m \u001b[38;5;21;01mstatsmodels\u001b[39;00m\u001b[38;5;21;01m.\u001b[39;00m\u001b[38;5;21;01mstats\u001b[39;00m\u001b[38;5;21;01m.\u001b[39;00m\u001b[38;5;21;01moutliers_influence\u001b[39;00m \\\n\u001b[1;32m     11\u001b[0m      \u001b[38;5;28;01mimport\u001b[39;00m \u001b[38;5;21;01mvariance_inflation_factor\u001b[39;00m \u001b[38;5;28;01mas\u001b[39;00m \u001b[38;5;21;01mVIF\u001b[39;00m\n\u001b[1;32m     12\u001b[0m \u001b[38;5;28;01mfrom\u001b[39;00m \u001b[38;5;21;01mstatsmodels\u001b[39;00m\u001b[38;5;21;01m.\u001b[39;00m\u001b[38;5;21;01mstats\u001b[39;00m\u001b[38;5;21;01m.\u001b[39;00m\u001b[38;5;21;01manova\u001b[39;00m \u001b[38;5;28;01mimport\u001b[39;00m anova_lm\n\u001b[0;32m---> 13\u001b[0m \u001b[38;5;28;01mfrom\u001b[39;00m \u001b[38;5;21;01ml0bnb\u001b[39;00m \u001b[38;5;28;01mimport\u001b[39;00m fit_path\n\u001b[1;32m     14\u001b[0m \u001b[38;5;28;01mfrom\u001b[39;00m \u001b[38;5;21;01mISLP\u001b[39;00m \u001b[38;5;28;01mimport\u001b[39;00m load_data\n\u001b[1;32m     15\u001b[0m \u001b[38;5;28;01mfrom\u001b[39;00m \u001b[38;5;21;01mISLP\u001b[39;00m\u001b[38;5;21;01m.\u001b[39;00m\u001b[38;5;21;01mmodels\u001b[39;00m \u001b[38;5;28;01mimport\u001b[39;00m (ModelSpec \u001b[38;5;28;01mas\u001b[39;00m MS,\n\u001b[1;32m     16\u001b[0m                          summarize,\n\u001b[1;32m     17\u001b[0m                          poly)\n",
      "File \u001b[0;32m~/anaconda3/lib/python3.11/site-packages/l0bnb/__init__.py:1\u001b[0m\n\u001b[0;32m----> 1\u001b[0m \u001b[38;5;28;01mfrom\u001b[39;00m \u001b[38;5;21;01m.\u001b[39;00m\u001b[38;5;21;01mregpath\u001b[39;00m \u001b[38;5;28;01mimport\u001b[39;00m fit_path\n\u001b[1;32m      2\u001b[0m \u001b[38;5;28;01mfrom\u001b[39;00m \u001b[38;5;21;01m.\u001b[39;00m\u001b[38;5;21;01mgensynthetic\u001b[39;00m \u001b[38;5;28;01mimport\u001b[39;00m gen_synthetic\n\u001b[1;32m      3\u001b[0m \u001b[38;5;28;01mfrom\u001b[39;00m \u001b[38;5;21;01m.\u001b[39;00m\u001b[38;5;21;01mtree\u001b[39;00m \u001b[38;5;28;01mimport\u001b[39;00m BNBTree\n",
      "File \u001b[0;32m~/anaconda3/lib/python3.11/site-packages/l0bnb/regpath.py:4\u001b[0m\n\u001b[1;32m      2\u001b[0m \u001b[38;5;28;01mimport\u001b[39;00m \u001b[38;5;21;01mnumpy\u001b[39;00m \u001b[38;5;28;01mas\u001b[39;00m \u001b[38;5;21;01mnp\u001b[39;00m\n\u001b[1;32m      3\u001b[0m \u001b[38;5;28;01mfrom\u001b[39;00m \u001b[38;5;21;01mscipy\u001b[39;00m \u001b[38;5;28;01mimport\u001b[39;00m optimize \u001b[38;5;28;01mas\u001b[39;00m sci_opt\n\u001b[0;32m----> 4\u001b[0m \u001b[38;5;28;01mfrom\u001b[39;00m \u001b[38;5;21;01m.\u001b[39;00m\u001b[38;5;21;01mtree\u001b[39;00m \u001b[38;5;28;01mimport\u001b[39;00m BNBTree\n\u001b[1;32m      7\u001b[0m \u001b[38;5;28;01mdef\u001b[39;00m \u001b[38;5;21mfit_path\u001b[39m(x,\n\u001b[1;32m      8\u001b[0m              y,\n\u001b[1;32m      9\u001b[0m              lambda_2\u001b[38;5;241m=\u001b[39m\u001b[38;5;241m0.01\u001b[39m,\n\u001b[0;32m   (...)\u001b[0m\n\u001b[1;32m     17\u001b[0m              time_limit\u001b[38;5;241m=\u001b[39m\u001b[38;5;241m86400\u001b[39m,\n\u001b[1;32m     18\u001b[0m              solver\u001b[38;5;241m=\u001b[39m\u001b[38;5;124m'\u001b[39m\u001b[38;5;124ml0bnb\u001b[39m\u001b[38;5;124m'\u001b[39m):\n\u001b[1;32m     19\u001b[0m \u001b[38;5;250m    \u001b[39m\u001b[38;5;124;03m\"\"\"\u001b[39;00m\n\u001b[1;32m     20\u001b[0m \u001b[38;5;124;03m    Solves the L0L2-regularized least squares problem over a sequence of\u001b[39;00m\n\u001b[1;32m     21\u001b[0m \u001b[38;5;124;03m    lambda_0's.\u001b[39;00m\n\u001b[0;32m   (...)\u001b[0m\n\u001b[1;32m     63\u001b[0m \u001b[38;5;124;03m                solution.\u001b[39;00m\n\u001b[1;32m     64\u001b[0m \u001b[38;5;124;03m    \"\"\"\u001b[39;00m\n",
      "File \u001b[0;32m~/anaconda3/lib/python3.11/site-packages/l0bnb/tree.py:8\u001b[0m\n\u001b[1;32m      4\u001b[0m \u001b[38;5;28;01mfrom\u001b[39;00m \u001b[38;5;21;01mcollections\u001b[39;00m \u001b[38;5;28;01mimport\u001b[39;00m namedtuple\n\u001b[1;32m      6\u001b[0m \u001b[38;5;28;01mimport\u001b[39;00m \u001b[38;5;21;01mnumpy\u001b[39;00m \u001b[38;5;28;01mas\u001b[39;00m \u001b[38;5;21;01mnp\u001b[39;00m\n\u001b[0;32m----> 8\u001b[0m \u001b[38;5;28;01mfrom\u001b[39;00m \u001b[38;5;21;01m.\u001b[39;00m\u001b[38;5;21;01mnode\u001b[39;00m \u001b[38;5;28;01mimport\u001b[39;00m Node, upper_bound_solve\n\u001b[1;32m      9\u001b[0m \u001b[38;5;28;01mfrom\u001b[39;00m \u001b[38;5;21;01m.\u001b[39;00m\u001b[38;5;21;01mutilities\u001b[39;00m \u001b[38;5;28;01mimport\u001b[39;00m branch, is_integral\n\u001b[1;32m     12\u001b[0m \u001b[38;5;28;01mclass\u001b[39;00m \u001b[38;5;21;01mBNBTree\u001b[39;00m:\n",
      "File \u001b[0;32m~/anaconda3/lib/python3.11/site-packages/l0bnb/node/__init__.py:1\u001b[0m\n\u001b[0;32m----> 1\u001b[0m \u001b[38;5;28;01mfrom\u001b[39;00m \u001b[38;5;21;01m.\u001b[39;00m\u001b[38;5;21;01mcore\u001b[39;00m \u001b[38;5;28;01mimport\u001b[39;00m Node\n\u001b[1;32m      2\u001b[0m \u001b[38;5;28;01mfrom\u001b[39;00m \u001b[38;5;21;01m.\u001b[39;00m\u001b[38;5;21;01m_utils\u001b[39;00m \u001b[38;5;28;01mimport\u001b[39;00m upper_bound_solve\n",
      "File \u001b[0;32m~/anaconda3/lib/python3.11/site-packages/l0bnb/node/core.py:5\u001b[0m\n\u001b[1;32m      1\u001b[0m \u001b[38;5;28;01mfrom\u001b[39;00m \u001b[38;5;21;01mcopy\u001b[39;00m \u001b[38;5;28;01mimport\u001b[39;00m deepcopy\n\u001b[1;32m      3\u001b[0m \u001b[38;5;28;01mimport\u001b[39;00m \u001b[38;5;21;01mnumpy\u001b[39;00m \u001b[38;5;28;01mas\u001b[39;00m \u001b[38;5;21;01mnp\u001b[39;00m\n\u001b[0;32m----> 5\u001b[0m \u001b[38;5;28;01mfrom\u001b[39;00m \u001b[38;5;21;01m.\u001b[39;00m\u001b[38;5;21;01m.\u001b[39;00m\u001b[38;5;21;01mrelaxation\u001b[39;00m \u001b[38;5;28;01mimport\u001b[39;00m cd_solve, l0gurobi, l0mosek\n\u001b[1;32m      6\u001b[0m \u001b[38;5;28;01mfrom\u001b[39;00m \u001b[38;5;21;01m.\u001b[39;00m\u001b[38;5;21;01m_utils\u001b[39;00m \u001b[38;5;28;01mimport\u001b[39;00m upper_bound_solve\n\u001b[1;32m      9\u001b[0m \u001b[38;5;28;01mclass\u001b[39;00m \u001b[38;5;21;01mNode\u001b[39;00m:\n",
      "File \u001b[0;32m~/anaconda3/lib/python3.11/site-packages/l0bnb/relaxation/__init__.py:3\u001b[0m\n\u001b[1;32m      1\u001b[0m \u001b[38;5;28;01mimport\u001b[39;00m \u001b[38;5;21;01mwarnings\u001b[39;00m\n\u001b[0;32m----> 3\u001b[0m \u001b[38;5;28;01mfrom\u001b[39;00m \u001b[38;5;21;01mnumba\u001b[39;00m\u001b[38;5;21;01m.\u001b[39;00m\u001b[38;5;21;01mcore\u001b[39;00m\u001b[38;5;21;01m.\u001b[39;00m\u001b[38;5;21;01merrors\u001b[39;00m \u001b[38;5;28;01mimport\u001b[39;00m NumbaDeprecationWarning, \\\n\u001b[1;32m      4\u001b[0m     NumbaPendingDeprecationWarning, NumbaPerformanceWarning\n\u001b[1;32m      6\u001b[0m warnings\u001b[38;5;241m.\u001b[39msimplefilter(\u001b[38;5;124m'\u001b[39m\u001b[38;5;124mignore\u001b[39m\u001b[38;5;124m'\u001b[39m, category\u001b[38;5;241m=\u001b[39mNumbaDeprecationWarning)\n\u001b[1;32m      7\u001b[0m warnings\u001b[38;5;241m.\u001b[39msimplefilter(\u001b[38;5;124m'\u001b[39m\u001b[38;5;124mignore\u001b[39m\u001b[38;5;124m'\u001b[39m, category\u001b[38;5;241m=\u001b[39mNumbaPendingDeprecationWarning)\n",
      "File \u001b[0;32m~/anaconda3/lib/python3.11/site-packages/numba/core/errors.py:11\u001b[0m\n\u001b[1;32m      9\u001b[0m \u001b[38;5;28;01mimport\u001b[39;00m \u001b[38;5;21;01msys\u001b[39;00m\n\u001b[1;32m     10\u001b[0m \u001b[38;5;28;01mimport\u001b[39;00m \u001b[38;5;21;01mwarnings\u001b[39;00m\n\u001b[0;32m---> 11\u001b[0m \u001b[38;5;28;01mimport\u001b[39;00m \u001b[38;5;21;01mnumba\u001b[39;00m\u001b[38;5;21;01m.\u001b[39;00m\u001b[38;5;21;01mcore\u001b[39;00m\u001b[38;5;21;01m.\u001b[39;00m\u001b[38;5;21;01mconfig\u001b[39;00m\n\u001b[1;32m     12\u001b[0m \u001b[38;5;28;01mimport\u001b[39;00m \u001b[38;5;21;01mnumpy\u001b[39;00m \u001b[38;5;28;01mas\u001b[39;00m \u001b[38;5;21;01mnp\u001b[39;00m\n\u001b[1;32m     13\u001b[0m \u001b[38;5;28;01mfrom\u001b[39;00m \u001b[38;5;21;01mcollections\u001b[39;00m \u001b[38;5;28;01mimport\u001b[39;00m defaultdict\n",
      "File \u001b[0;32m~/anaconda3/lib/python3.11/site-packages/numba/core/config.py:16\u001b[0m\n\u001b[1;32m     12\u001b[0m \u001b[38;5;28;01mexcept\u001b[39;00m \u001b[38;5;167;01mImportError\u001b[39;00m:\n\u001b[1;32m     13\u001b[0m     _HAVE_YAML \u001b[38;5;241m=\u001b[39m \u001b[38;5;28;01mFalse\u001b[39;00m\n\u001b[0;32m---> 16\u001b[0m \u001b[38;5;28;01mimport\u001b[39;00m \u001b[38;5;21;01mllvmlite\u001b[39;00m\u001b[38;5;21;01m.\u001b[39;00m\u001b[38;5;21;01mbinding\u001b[39;00m \u001b[38;5;28;01mas\u001b[39;00m \u001b[38;5;21;01mll\u001b[39;00m\n\u001b[1;32m     19\u001b[0m IS_WIN32 \u001b[38;5;241m=\u001b[39m sys\u001b[38;5;241m.\u001b[39mplatform\u001b[38;5;241m.\u001b[39mstartswith(\u001b[38;5;124m'\u001b[39m\u001b[38;5;124mwin32\u001b[39m\u001b[38;5;124m'\u001b[39m)\n\u001b[1;32m     20\u001b[0m IS_OSX \u001b[38;5;241m=\u001b[39m sys\u001b[38;5;241m.\u001b[39mplatform\u001b[38;5;241m.\u001b[39mstartswith(\u001b[38;5;124m'\u001b[39m\u001b[38;5;124mdarwin\u001b[39m\u001b[38;5;124m'\u001b[39m)\n",
      "File \u001b[0;32m~/anaconda3/lib/python3.11/site-packages/llvmlite/binding/__init__.py:4\u001b[0m\n\u001b[1;32m      1\u001b[0m \u001b[38;5;124;03m\"\"\"\u001b[39;00m\n\u001b[1;32m      2\u001b[0m \u001b[38;5;124;03mThings that rely on the LLVM library\u001b[39;00m\n\u001b[1;32m      3\u001b[0m \u001b[38;5;124;03m\"\"\"\u001b[39;00m\n\u001b[0;32m----> 4\u001b[0m \u001b[38;5;28;01mfrom\u001b[39;00m \u001b[38;5;21;01m.\u001b[39;00m\u001b[38;5;21;01mdylib\u001b[39;00m \u001b[38;5;28;01mimport\u001b[39;00m \u001b[38;5;241m*\u001b[39m\n\u001b[1;32m      5\u001b[0m \u001b[38;5;28;01mfrom\u001b[39;00m \u001b[38;5;21;01m.\u001b[39;00m\u001b[38;5;21;01mexecutionengine\u001b[39;00m \u001b[38;5;28;01mimport\u001b[39;00m \u001b[38;5;241m*\u001b[39m\n\u001b[1;32m      6\u001b[0m \u001b[38;5;28;01mfrom\u001b[39;00m \u001b[38;5;21;01m.\u001b[39;00m\u001b[38;5;21;01minitfini\u001b[39;00m \u001b[38;5;28;01mimport\u001b[39;00m \u001b[38;5;241m*\u001b[39m\n",
      "File \u001b[0;32m~/anaconda3/lib/python3.11/site-packages/llvmlite/binding/dylib.py:3\u001b[0m\n\u001b[1;32m      1\u001b[0m \u001b[38;5;28;01mfrom\u001b[39;00m \u001b[38;5;21;01mctypes\u001b[39;00m \u001b[38;5;28;01mimport\u001b[39;00m c_void_p, c_char_p, c_bool, POINTER\n\u001b[0;32m----> 3\u001b[0m \u001b[38;5;28;01mfrom\u001b[39;00m \u001b[38;5;21;01mllvmlite\u001b[39;00m\u001b[38;5;21;01m.\u001b[39;00m\u001b[38;5;21;01mbinding\u001b[39;00m \u001b[38;5;28;01mimport\u001b[39;00m ffi\n\u001b[1;32m      4\u001b[0m \u001b[38;5;28;01mfrom\u001b[39;00m \u001b[38;5;21;01mllvmlite\u001b[39;00m\u001b[38;5;21;01m.\u001b[39;00m\u001b[38;5;21;01mbinding\u001b[39;00m\u001b[38;5;21;01m.\u001b[39;00m\u001b[38;5;21;01mcommon\u001b[39;00m \u001b[38;5;28;01mimport\u001b[39;00m _encode_string\n\u001b[1;32m      7\u001b[0m \u001b[38;5;28;01mdef\u001b[39;00m \u001b[38;5;21maddress_of_symbol\u001b[39m(name):\n",
      "File \u001b[0;32m~/anaconda3/lib/python3.11/site-packages/llvmlite/binding/ffi.py:187\u001b[0m\n\u001b[1;32m    184\u001b[0m \u001b[38;5;28;01mexcept\u001b[39;00m \u001b[38;5;167;01mOSError\u001b[39;00m \u001b[38;5;28;01mas\u001b[39;00m e:\n\u001b[1;32m    185\u001b[0m     msg \u001b[38;5;241m=\u001b[39m \u001b[38;5;124mf\u001b[39m\u001b[38;5;124m\"\"\"\u001b[39m\u001b[38;5;124mCould not find/load shared object file: \u001b[39m\u001b[38;5;132;01m{\u001b[39;00m_lib_name\u001b[38;5;132;01m}\u001b[39;00m\n\u001b[1;32m    186\u001b[0m \u001b[38;5;124m Error was: \u001b[39m\u001b[38;5;132;01m{\u001b[39;00me\u001b[38;5;132;01m}\u001b[39;00m\u001b[38;5;124m\"\"\"\u001b[39m\n\u001b[0;32m--> 187\u001b[0m     \u001b[38;5;28;01mraise\u001b[39;00m \u001b[38;5;167;01mOSError\u001b[39;00m(msg)\n\u001b[1;32m    190\u001b[0m lib \u001b[38;5;241m=\u001b[39m _lib_wrapper(lib)\n\u001b[1;32m    193\u001b[0m \u001b[38;5;28;01mdef\u001b[39;00m \u001b[38;5;21mregister_lock_callback\u001b[39m(acq_fn, rel_fn):\n",
      "\u001b[0;31mOSError\u001b[0m: Could not find/load shared object file: libllvmlite.dylib\n Error was: dlopen(/Users/amin/anaconda3/lib/python3.11/site-packages/llvmlite/binding/libllvmlite.dylib, 0x0006): Library not loaded: @rpath/libLLVM-14.dylib\n  Referenced from: /Users/amin/anaconda3/lib/python3.11/site-packages/llvmlite/binding/libllvmlite.dylib\n  Reason: tried: '/Users/amin/anaconda3/lib/python3.11/site-packages/llvmlite/binding/../../../../libLLVM-14.dylib' (no such file), '/Users/amin/anaconda3/lib/python3.11/site-packages/llvmlite/binding/../../../../libLLVM-14.dylib' (no such file), '/Users/amin/anaconda3/lib/python3.11/lib-dynload/../../libLLVM-14.dylib' (no such file), '/Users/amin/anaconda3/bin/../lib/libLLVM-14.dylib' (no such file), '/usr/local/lib/libLLVM-14.dylib' (no such file), '/usr/lib/libLLVM-14.dylib' (no such file)"
     ]
    }
   ],
   "source": [
    "# Import standard libraries\n",
    "import numpy as np\n",
    "import pandas as pd\n",
    "import seaborn as sns\n",
    "from matplotlib.pyplot import subplots\n",
    "import statsmodels.api as sm\n",
    "\n",
    "# Import specific objects\n",
    "from sklearn.preprocessing import StandardScaler\n",
    "from statsmodels.stats.outliers_influence \\\n",
    "     import variance_inflation_factor as VIF\n",
    "from statsmodels.stats.anova import anova_lm\n",
    "from l0bnb import fit_path\n",
    "from ISLP import load_data\n",
    "from ISLP.models import (ModelSpec as MS,\n",
    "                         summarize,\n",
    "                         poly)\n",
    "\n",
    "# Install, import, and load specific package\n",
    "import faraway as fw\n",
    "import faraway.datasets.fat\n",
    "from sklearn.model_selection import LeaveOneOut\n",
    "from sklearn.metrics import mean_squared_error\n",
    "import numpy as np"
   ]
  },
  {
   "cell_type": "markdown",
   "id": "21283675-9b75-4413-89c2-0890ceb198b8",
   "metadata": {},
   "source": [
    "### Question 1: Regularization via best subset selection\n",
    "\n",
    "First, we'll use the `swiss` dataset, which is a built-in dataset in R, but can be added to Python. As always, start by reviewing a description of the dataset, by typing `swiss?` in the console.  To perform model selection via \"best subsets\", we will use the `regsubsets` function in the `leaps` package."
   ]
  },
  {
   "cell_type": "code",
   "execution_count": null,
   "id": "f9b3824c-e20a-4709-b7e1-a094bd0841c4",
   "metadata": {},
   "outputs": [],
   "source": [
    "# Import\n",
    "swiss = sm.datasets.get_rdataset(\"swiss\")\n",
    "df = pd.DataFrame(swiss.data)\n",
    "df\n",
    "# Explore the dataset"
   ]
  },
  {
   "cell_type": "markdown",
   "id": "3473b2bf-8f6b-4370-8d96-1def6e2ee7cf",
   "metadata": {},
   "source": [
    "Answer the following questions:\n",
    "\n",
    "_(i)_ What will be the size (number of observations) of each LOOCV training sample?\n",
    "\n",
    "_(ii)_ What will be the size (number of observations) of each LOOCV testing sample?\n",
    "\n",
    "_(iii)_ How many \"folds\" (i.e., k) will our LOOCV model have?  \n",
    "\n",
    "_(iv)_ Now, fit a linear model, with `Fertility` as the response variable, and all other variables as predictors. Use the `sm.OLS` function"
   ]
  },
  {
   "cell_type": "markdown",
   "id": "ee014c73",
   "metadata": {},
   "source": [
    "Answers:\n",
    "\n",
    "(i) The total number of observations minus 1.\n",
    "\n",
    "(ii) 1\n",
    "\n",
    "(iii) Equal to the total number of observations."
   ]
  },
  {
   "cell_type": "code",
   "execution_count": null,
   "id": "6cb0abf7-57e2-447c-8f2a-98838401a863",
   "metadata": {},
   "outputs": [],
   "source": [
    "response_variable = 'Fertility'\n",
    "predictors = df.columns[df.columns != response_variable]\n",
    "model = sm.OLS(df[response_variable], sm.add_constant(df[predictors])).fit()\n",
    "\n",
    "# Display model summary\n",
    "print(model.summary())"
   ]
  },
  {
   "cell_type": "markdown",
   "id": "392e58fe-2bf9-44f1-8184-494d4d52b79c",
   "metadata": {},
   "source": [
    "_(v)_ Next, perform LOOCV, using the appropriate function.  "
   ]
  },
  {
   "cell_type": "code",
   "execution_count": 47,
   "id": "0773d418-870f-4122-bbf0-3fa5f26523ff",
   "metadata": {},
   "outputs": [
    {
     "name": "stdout",
     "output_type": "stream",
     "text": [
      "Average Mean Squared Error (LOOCV): 59.88621322401252\n"
     ]
    }
   ],
   "source": [
    "\n",
    "\n",
    "response_variable = 'Fertility'\n",
    "predictors = df.columns[df.columns != response_variable]\n",
    "\n",
    "X = df[predictors].values\n",
    "y = df[response_variable].values\n",
    "\n",
    "loo = LeaveOneOut()\n",
    "mse_list = []\n",
    "\n",
    "for train_index, test_index in loo.split(X):\n",
    "    X_train, X_test = X[train_index], X[test_index]\n",
    "    y_train, y_test = y[train_index], y[test_index]\n",
    "\n",
    "    model = sm.OLS(y_train, sm.add_constant(X_train)).fit()\n",
    "\n",
    "    X_test_with_constant = np.insert(X_test, 0, 1, axis=1)\n",
    "    y_pred = model.predict(X_test_with_constant)\n",
    "\n",
    "    mse = mean_squared_error(y_test, y_pred)\n",
    "    mse_list.append(mse)\n",
    "\n",
    "average_mse = np.mean(mse_list)\n",
    "print(\"Average Mean Squared Error (LOOCV):\", average_mse)\n"
   ]
  },
  {
   "cell_type": "markdown",
   "id": "b76f1994-6d3f-4aa9-8288-5ecd385315bd",
   "metadata": {},
   "source": [
    "_(vi)_ What is the MSE for the LOOCV?  "
   ]
  },
  {
   "cell_type": "code",
   "execution_count": 46,
   "id": "a807b1e0-821b-4bb6-851b-c0ce1d197f6f",
   "metadata": {},
   "outputs": [
    {
     "name": "stdout",
     "output_type": "stream",
     "text": [
      "Average Mean Squared Error (LOOCV): 59.88621322401252\n",
      "Mean Squared Error for LOOCV: 59.88621322401252\n"
     ]
    }
   ],
   "source": [
    "average_mse = np.mean(mse_list)\n",
    "print(\"Average Mean Squared Error (LOOCV):\", average_mse)\n",
    "\n",
    "loocv_mse = np.mean(mse_list)\n",
    "print(\"Mean Squared Error for LOOCV:\", loocv_mse)"
   ]
  },
  {
   "cell_type": "markdown",
   "id": "c6cb482a-1a25-4370-b8e7-5497ca5baff1",
   "metadata": {},
   "source": [
    "_(vii)_ Run the LOOCV for a second time (no need to repeat the code; simply, run your existing code in in v and vi again). Do you obtain different results? Why or why not?  \n",
    "\n",
    "_(viii)_ Manually compute MSE for the linear model (without LOOCV) that you fit with the `sm.OLS` function, in iv. (Hint: recall that MSE is defined as the sum of squared residuals, divided by n. You can \"look inside\" your linear model object to find residual values). "
   ]
  },
  {
   "cell_type": "markdown",
   "id": "35601798",
   "metadata": {},
   "source": [
    "Answers:\n",
    "    \n",
    "(vii)\n",
    "    \n",
    "    \n",
    "    "
   ]
  },
  {
   "cell_type": "markdown",
   "id": "fc2e308c",
   "metadata": {},
   "source": [
    "Running the code for Leave-One-Out Cross-Validation (LOOCV) a second time is likely to produce similar, if not identical, Mean Squared Error (MSE) results since LOOCV involves systematic iterations with almost the same data."
   ]
  },
  {
   "cell_type": "code",
   "execution_count": 22,
   "id": "651f1438",
   "metadata": {},
   "outputs": [
    {
     "name": "stdout",
     "output_type": "stream",
     "text": [
      "Mean Squared Error (Manual): 44.78814745625713\n"
     ]
    }
   ],
   "source": [
    "#(viii)\n",
    "\n",
    "model = sm.OLS(df[response_variable], sm.add_constant(df[predictors])).fit()\n",
    "y_pred = model.predict(sm.add_constant(df[predictors]))\n",
    "residuals = df[response_variable] - y_pred\n",
    "mse = np.mean(residuals**2)\n",
    "print(\"Mean Squared Error (Manual):\", mse)\n"
   ]
  },
  {
   "cell_type": "markdown",
   "id": "cb4f5506-6637-4fbd-994c-0b363082a2cf",
   "metadata": {},
   "source": [
    "_(ix)_ Does the LOOCV-linear model, or the non-validated linear model, appear to have greater error? Why might this be the case?   \n",
    "\n",
    "Imagine that the `swiss` dataset has just announced a major new release, which will include data from all provinces of Europe (not just those in Switzerland), and records all the way to the present day (not just 1888).  \n",
    "\n",
    "_(x)_ Would you choose LOOCV as a validation method for this new release? Why or why not?  \n",
    "\n",
    "_(xi)_ What validation method might you choose instead?  \n"
   ]
  },
  {
   "cell_type": "markdown",
   "id": "adc3b1f9",
   "metadata": {},
   "source": [
    "Answers:\n",
    "\n",
    "\n",
    "(ix) The LOOCV-linear model and non-validated linear model likely have similar errors, but LOOCV offers a more reliable estimate of model performance.\n",
    "\n",
    "(x) LOOCV might not be optimal due to the cost and overfitting concerns. K-fold cross-validation could be more practical.\n",
    "\n",
    "(xi) Could be k-fold cross-validation which provides a balance between efficiency and performance of estimation."
   ]
  },
  {
   "cell_type": "markdown",
   "id": "f3d6bb34-01e7-4fed-afcc-171827e4b30d",
   "metadata": {},
   "source": [
    "### Question 2: Regularization via best subset selection\n",
    "\n",
    "Now, let's use the `fat` dataset, in the `faraway` library. Please make sure you have installed the `faraway` library and loaded specific objects listed at the start of this notebook."
   ]
  },
  {
   "cell_type": "code",
   "execution_count": 45,
   "id": "7fe7cfb9-e721-495b-874a-4930fcb85976",
   "metadata": {},
   "outputs": [
    {
     "ename": "OSError",
     "evalue": "Could not find/load shared object file: libllvmlite.dylib\n Error was: dlopen(/Users/amin/anaconda3/lib/python3.11/site-packages/llvmlite/binding/libllvmlite.dylib, 0x0006): Library not loaded: @rpath/libLLVM-14.dylib\n  Referenced from: /Users/amin/anaconda3/lib/python3.11/site-packages/llvmlite/binding/libllvmlite.dylib\n  Reason: tried: '/Users/amin/anaconda3/lib/python3.11/site-packages/llvmlite/binding/../../../../libLLVM-14.dylib' (no such file), '/Users/amin/anaconda3/lib/python3.11/site-packages/llvmlite/binding/../../../../libLLVM-14.dylib' (no such file), '/Users/amin/anaconda3/lib/python3.11/lib-dynload/../../libLLVM-14.dylib' (no such file), '/Users/amin/anaconda3/bin/../lib/libLLVM-14.dylib' (no such file), '/usr/local/lib/libLLVM-14.dylib' (no such file), '/usr/lib/libLLVM-14.dylib' (no such file)",
     "output_type": "error",
     "traceback": [
      "\u001b[0;31m---------------------------------------------------------------------------\u001b[0m",
      "\u001b[0;31mOSError\u001b[0m                                   Traceback (most recent call last)",
      "File \u001b[0;32m~/anaconda3/lib/python3.11/site-packages/llvmlite/binding/ffi.py:180\u001b[0m\n\u001b[1;32m    179\u001b[0m _lib_handle \u001b[38;5;241m=\u001b[39m _importlib_resources_path(pkgname, _lib_name)\n\u001b[0;32m--> 180\u001b[0m lib \u001b[38;5;241m=\u001b[39m ctypes\u001b[38;5;241m.\u001b[39mCDLL(\u001b[38;5;28mstr\u001b[39m(_lib_handle\u001b[38;5;241m.\u001b[39m\u001b[38;5;21m__enter__\u001b[39m()))\n\u001b[1;32m    181\u001b[0m \u001b[38;5;66;03m# on windows file handles to the dll file remain open after\u001b[39;00m\n\u001b[1;32m    182\u001b[0m \u001b[38;5;66;03m# loading, therefore we can not exit the context manager\u001b[39;00m\n\u001b[1;32m    183\u001b[0m \u001b[38;5;66;03m# which might delete the file\u001b[39;00m\n",
      "File \u001b[0;32m~/anaconda3/lib/python3.11/ctypes/__init__.py:376\u001b[0m, in \u001b[0;36mCDLL.__init__\u001b[0;34m(self, name, mode, handle, use_errno, use_last_error, winmode)\u001b[0m\n\u001b[1;32m    375\u001b[0m \u001b[38;5;28;01mif\u001b[39;00m handle \u001b[38;5;129;01mis\u001b[39;00m \u001b[38;5;28;01mNone\u001b[39;00m:\n\u001b[0;32m--> 376\u001b[0m     \u001b[38;5;28mself\u001b[39m\u001b[38;5;241m.\u001b[39m_handle \u001b[38;5;241m=\u001b[39m _dlopen(\u001b[38;5;28mself\u001b[39m\u001b[38;5;241m.\u001b[39m_name, mode)\n\u001b[1;32m    377\u001b[0m \u001b[38;5;28;01melse\u001b[39;00m:\n",
      "\u001b[0;31mOSError\u001b[0m: dlopen(/Users/amin/anaconda3/lib/python3.11/site-packages/llvmlite/binding/libllvmlite.dylib, 0x0006): Library not loaded: @rpath/libLLVM-14.dylib\n  Referenced from: /Users/amin/anaconda3/lib/python3.11/site-packages/llvmlite/binding/libllvmlite.dylib\n  Reason: tried: '/Users/amin/anaconda3/lib/python3.11/site-packages/llvmlite/binding/../../../../libLLVM-14.dylib' (no such file), '/Users/amin/anaconda3/lib/python3.11/site-packages/llvmlite/binding/../../../../libLLVM-14.dylib' (no such file), '/Users/amin/anaconda3/lib/python3.11/lib-dynload/../../libLLVM-14.dylib' (no such file), '/Users/amin/anaconda3/bin/../lib/libLLVM-14.dylib' (no such file), '/usr/local/lib/libLLVM-14.dylib' (no such file), '/usr/lib/libLLVM-14.dylib' (no such file)",
      "\nDuring handling of the above exception, another exception occurred:\n",
      "\u001b[0;31mOSError\u001b[0m                                   Traceback (most recent call last)",
      "Cell \u001b[0;32mIn[45], line 3\u001b[0m\n\u001b[1;32m      1\u001b[0m \u001b[38;5;28;01mimport\u001b[39;00m \u001b[38;5;21;01mfaraway\u001b[39;00m \u001b[38;5;28;01mas\u001b[39;00m \u001b[38;5;21;01mfw\u001b[39;00m\n\u001b[1;32m      2\u001b[0m \u001b[38;5;28;01mimport\u001b[39;00m \u001b[38;5;21;01mfaraway\u001b[39;00m\u001b[38;5;21;01m.\u001b[39;00m\u001b[38;5;21;01mdatasets\u001b[39;00m\u001b[38;5;21;01m.\u001b[39;00m\u001b[38;5;21;01mfat\u001b[39;00m\n\u001b[0;32m----> 3\u001b[0m \u001b[38;5;28;01mfrom\u001b[39;00m \u001b[38;5;21;01ml0bnb\u001b[39;00m \u001b[38;5;28;01mimport\u001b[39;00m fit_path\n\u001b[1;32m      5\u001b[0m \u001b[38;5;66;03m# Load data\u001b[39;00m\n\u001b[1;32m      6\u001b[0m fat \u001b[38;5;241m=\u001b[39m faraway\u001b[38;5;241m.\u001b[39mdatasets\u001b[38;5;241m.\u001b[39mfat\u001b[38;5;241m.\u001b[39mload()\n",
      "File \u001b[0;32m~/anaconda3/lib/python3.11/site-packages/l0bnb/__init__.py:1\u001b[0m\n\u001b[0;32m----> 1\u001b[0m \u001b[38;5;28;01mfrom\u001b[39;00m \u001b[38;5;21;01m.\u001b[39;00m\u001b[38;5;21;01mregpath\u001b[39;00m \u001b[38;5;28;01mimport\u001b[39;00m fit_path\n\u001b[1;32m      2\u001b[0m \u001b[38;5;28;01mfrom\u001b[39;00m \u001b[38;5;21;01m.\u001b[39;00m\u001b[38;5;21;01mgensynthetic\u001b[39;00m \u001b[38;5;28;01mimport\u001b[39;00m gen_synthetic\n\u001b[1;32m      3\u001b[0m \u001b[38;5;28;01mfrom\u001b[39;00m \u001b[38;5;21;01m.\u001b[39;00m\u001b[38;5;21;01mtree\u001b[39;00m \u001b[38;5;28;01mimport\u001b[39;00m BNBTree\n",
      "File \u001b[0;32m~/anaconda3/lib/python3.11/site-packages/l0bnb/regpath.py:4\u001b[0m\n\u001b[1;32m      2\u001b[0m \u001b[38;5;28;01mimport\u001b[39;00m \u001b[38;5;21;01mnumpy\u001b[39;00m \u001b[38;5;28;01mas\u001b[39;00m \u001b[38;5;21;01mnp\u001b[39;00m\n\u001b[1;32m      3\u001b[0m \u001b[38;5;28;01mfrom\u001b[39;00m \u001b[38;5;21;01mscipy\u001b[39;00m \u001b[38;5;28;01mimport\u001b[39;00m optimize \u001b[38;5;28;01mas\u001b[39;00m sci_opt\n\u001b[0;32m----> 4\u001b[0m \u001b[38;5;28;01mfrom\u001b[39;00m \u001b[38;5;21;01m.\u001b[39;00m\u001b[38;5;21;01mtree\u001b[39;00m \u001b[38;5;28;01mimport\u001b[39;00m BNBTree\n\u001b[1;32m      7\u001b[0m \u001b[38;5;28;01mdef\u001b[39;00m \u001b[38;5;21mfit_path\u001b[39m(x,\n\u001b[1;32m      8\u001b[0m              y,\n\u001b[1;32m      9\u001b[0m              lambda_2\u001b[38;5;241m=\u001b[39m\u001b[38;5;241m0.01\u001b[39m,\n\u001b[0;32m   (...)\u001b[0m\n\u001b[1;32m     17\u001b[0m              time_limit\u001b[38;5;241m=\u001b[39m\u001b[38;5;241m86400\u001b[39m,\n\u001b[1;32m     18\u001b[0m              solver\u001b[38;5;241m=\u001b[39m\u001b[38;5;124m'\u001b[39m\u001b[38;5;124ml0bnb\u001b[39m\u001b[38;5;124m'\u001b[39m):\n\u001b[1;32m     19\u001b[0m \u001b[38;5;250m    \u001b[39m\u001b[38;5;124;03m\"\"\"\u001b[39;00m\n\u001b[1;32m     20\u001b[0m \u001b[38;5;124;03m    Solves the L0L2-regularized least squares problem over a sequence of\u001b[39;00m\n\u001b[1;32m     21\u001b[0m \u001b[38;5;124;03m    lambda_0's.\u001b[39;00m\n\u001b[0;32m   (...)\u001b[0m\n\u001b[1;32m     63\u001b[0m \u001b[38;5;124;03m                solution.\u001b[39;00m\n\u001b[1;32m     64\u001b[0m \u001b[38;5;124;03m    \"\"\"\u001b[39;00m\n",
      "File \u001b[0;32m~/anaconda3/lib/python3.11/site-packages/l0bnb/tree.py:8\u001b[0m\n\u001b[1;32m      4\u001b[0m \u001b[38;5;28;01mfrom\u001b[39;00m \u001b[38;5;21;01mcollections\u001b[39;00m \u001b[38;5;28;01mimport\u001b[39;00m namedtuple\n\u001b[1;32m      6\u001b[0m \u001b[38;5;28;01mimport\u001b[39;00m \u001b[38;5;21;01mnumpy\u001b[39;00m \u001b[38;5;28;01mas\u001b[39;00m \u001b[38;5;21;01mnp\u001b[39;00m\n\u001b[0;32m----> 8\u001b[0m \u001b[38;5;28;01mfrom\u001b[39;00m \u001b[38;5;21;01m.\u001b[39;00m\u001b[38;5;21;01mnode\u001b[39;00m \u001b[38;5;28;01mimport\u001b[39;00m Node, upper_bound_solve\n\u001b[1;32m      9\u001b[0m \u001b[38;5;28;01mfrom\u001b[39;00m \u001b[38;5;21;01m.\u001b[39;00m\u001b[38;5;21;01mutilities\u001b[39;00m \u001b[38;5;28;01mimport\u001b[39;00m branch, is_integral\n\u001b[1;32m     12\u001b[0m \u001b[38;5;28;01mclass\u001b[39;00m \u001b[38;5;21;01mBNBTree\u001b[39;00m:\n",
      "File \u001b[0;32m~/anaconda3/lib/python3.11/site-packages/l0bnb/node/__init__.py:1\u001b[0m\n\u001b[0;32m----> 1\u001b[0m \u001b[38;5;28;01mfrom\u001b[39;00m \u001b[38;5;21;01m.\u001b[39;00m\u001b[38;5;21;01mcore\u001b[39;00m \u001b[38;5;28;01mimport\u001b[39;00m Node\n\u001b[1;32m      2\u001b[0m \u001b[38;5;28;01mfrom\u001b[39;00m \u001b[38;5;21;01m.\u001b[39;00m\u001b[38;5;21;01m_utils\u001b[39;00m \u001b[38;5;28;01mimport\u001b[39;00m upper_bound_solve\n",
      "File \u001b[0;32m~/anaconda3/lib/python3.11/site-packages/l0bnb/node/core.py:5\u001b[0m\n\u001b[1;32m      1\u001b[0m \u001b[38;5;28;01mfrom\u001b[39;00m \u001b[38;5;21;01mcopy\u001b[39;00m \u001b[38;5;28;01mimport\u001b[39;00m deepcopy\n\u001b[1;32m      3\u001b[0m \u001b[38;5;28;01mimport\u001b[39;00m \u001b[38;5;21;01mnumpy\u001b[39;00m \u001b[38;5;28;01mas\u001b[39;00m \u001b[38;5;21;01mnp\u001b[39;00m\n\u001b[0;32m----> 5\u001b[0m \u001b[38;5;28;01mfrom\u001b[39;00m \u001b[38;5;21;01m.\u001b[39;00m\u001b[38;5;21;01m.\u001b[39;00m\u001b[38;5;21;01mrelaxation\u001b[39;00m \u001b[38;5;28;01mimport\u001b[39;00m cd_solve, l0gurobi, l0mosek\n\u001b[1;32m      6\u001b[0m \u001b[38;5;28;01mfrom\u001b[39;00m \u001b[38;5;21;01m.\u001b[39;00m\u001b[38;5;21;01m_utils\u001b[39;00m \u001b[38;5;28;01mimport\u001b[39;00m upper_bound_solve\n\u001b[1;32m      9\u001b[0m \u001b[38;5;28;01mclass\u001b[39;00m \u001b[38;5;21;01mNode\u001b[39;00m:\n",
      "File \u001b[0;32m~/anaconda3/lib/python3.11/site-packages/l0bnb/relaxation/__init__.py:3\u001b[0m\n\u001b[1;32m      1\u001b[0m \u001b[38;5;28;01mimport\u001b[39;00m \u001b[38;5;21;01mwarnings\u001b[39;00m\n\u001b[0;32m----> 3\u001b[0m \u001b[38;5;28;01mfrom\u001b[39;00m \u001b[38;5;21;01mnumba\u001b[39;00m\u001b[38;5;21;01m.\u001b[39;00m\u001b[38;5;21;01mcore\u001b[39;00m\u001b[38;5;21;01m.\u001b[39;00m\u001b[38;5;21;01merrors\u001b[39;00m \u001b[38;5;28;01mimport\u001b[39;00m NumbaDeprecationWarning, \\\n\u001b[1;32m      4\u001b[0m     NumbaPendingDeprecationWarning, NumbaPerformanceWarning\n\u001b[1;32m      6\u001b[0m warnings\u001b[38;5;241m.\u001b[39msimplefilter(\u001b[38;5;124m'\u001b[39m\u001b[38;5;124mignore\u001b[39m\u001b[38;5;124m'\u001b[39m, category\u001b[38;5;241m=\u001b[39mNumbaDeprecationWarning)\n\u001b[1;32m      7\u001b[0m warnings\u001b[38;5;241m.\u001b[39msimplefilter(\u001b[38;5;124m'\u001b[39m\u001b[38;5;124mignore\u001b[39m\u001b[38;5;124m'\u001b[39m, category\u001b[38;5;241m=\u001b[39mNumbaPendingDeprecationWarning)\n",
      "File \u001b[0;32m~/anaconda3/lib/python3.11/site-packages/numba/core/errors.py:11\u001b[0m\n\u001b[1;32m      9\u001b[0m \u001b[38;5;28;01mimport\u001b[39;00m \u001b[38;5;21;01msys\u001b[39;00m\n\u001b[1;32m     10\u001b[0m \u001b[38;5;28;01mimport\u001b[39;00m \u001b[38;5;21;01mwarnings\u001b[39;00m\n\u001b[0;32m---> 11\u001b[0m \u001b[38;5;28;01mimport\u001b[39;00m \u001b[38;5;21;01mnumba\u001b[39;00m\u001b[38;5;21;01m.\u001b[39;00m\u001b[38;5;21;01mcore\u001b[39;00m\u001b[38;5;21;01m.\u001b[39;00m\u001b[38;5;21;01mconfig\u001b[39;00m\n\u001b[1;32m     12\u001b[0m \u001b[38;5;28;01mimport\u001b[39;00m \u001b[38;5;21;01mnumpy\u001b[39;00m \u001b[38;5;28;01mas\u001b[39;00m \u001b[38;5;21;01mnp\u001b[39;00m\n\u001b[1;32m     13\u001b[0m \u001b[38;5;28;01mfrom\u001b[39;00m \u001b[38;5;21;01mcollections\u001b[39;00m \u001b[38;5;28;01mimport\u001b[39;00m defaultdict\n",
      "File \u001b[0;32m~/anaconda3/lib/python3.11/site-packages/numba/core/config.py:16\u001b[0m\n\u001b[1;32m     12\u001b[0m \u001b[38;5;28;01mexcept\u001b[39;00m \u001b[38;5;167;01mImportError\u001b[39;00m:\n\u001b[1;32m     13\u001b[0m     _HAVE_YAML \u001b[38;5;241m=\u001b[39m \u001b[38;5;28;01mFalse\u001b[39;00m\n\u001b[0;32m---> 16\u001b[0m \u001b[38;5;28;01mimport\u001b[39;00m \u001b[38;5;21;01mllvmlite\u001b[39;00m\u001b[38;5;21;01m.\u001b[39;00m\u001b[38;5;21;01mbinding\u001b[39;00m \u001b[38;5;28;01mas\u001b[39;00m \u001b[38;5;21;01mll\u001b[39;00m\n\u001b[1;32m     19\u001b[0m IS_WIN32 \u001b[38;5;241m=\u001b[39m sys\u001b[38;5;241m.\u001b[39mplatform\u001b[38;5;241m.\u001b[39mstartswith(\u001b[38;5;124m'\u001b[39m\u001b[38;5;124mwin32\u001b[39m\u001b[38;5;124m'\u001b[39m)\n\u001b[1;32m     20\u001b[0m IS_OSX \u001b[38;5;241m=\u001b[39m sys\u001b[38;5;241m.\u001b[39mplatform\u001b[38;5;241m.\u001b[39mstartswith(\u001b[38;5;124m'\u001b[39m\u001b[38;5;124mdarwin\u001b[39m\u001b[38;5;124m'\u001b[39m)\n",
      "File \u001b[0;32m~/anaconda3/lib/python3.11/site-packages/llvmlite/binding/__init__.py:4\u001b[0m\n\u001b[1;32m      1\u001b[0m \u001b[38;5;124;03m\"\"\"\u001b[39;00m\n\u001b[1;32m      2\u001b[0m \u001b[38;5;124;03mThings that rely on the LLVM library\u001b[39;00m\n\u001b[1;32m      3\u001b[0m \u001b[38;5;124;03m\"\"\"\u001b[39;00m\n\u001b[0;32m----> 4\u001b[0m \u001b[38;5;28;01mfrom\u001b[39;00m \u001b[38;5;21;01m.\u001b[39;00m\u001b[38;5;21;01mdylib\u001b[39;00m \u001b[38;5;28;01mimport\u001b[39;00m \u001b[38;5;241m*\u001b[39m\n\u001b[1;32m      5\u001b[0m \u001b[38;5;28;01mfrom\u001b[39;00m \u001b[38;5;21;01m.\u001b[39;00m\u001b[38;5;21;01mexecutionengine\u001b[39;00m \u001b[38;5;28;01mimport\u001b[39;00m \u001b[38;5;241m*\u001b[39m\n\u001b[1;32m      6\u001b[0m \u001b[38;5;28;01mfrom\u001b[39;00m \u001b[38;5;21;01m.\u001b[39;00m\u001b[38;5;21;01minitfini\u001b[39;00m \u001b[38;5;28;01mimport\u001b[39;00m \u001b[38;5;241m*\u001b[39m\n",
      "File \u001b[0;32m~/anaconda3/lib/python3.11/site-packages/llvmlite/binding/dylib.py:3\u001b[0m\n\u001b[1;32m      1\u001b[0m \u001b[38;5;28;01mfrom\u001b[39;00m \u001b[38;5;21;01mctypes\u001b[39;00m \u001b[38;5;28;01mimport\u001b[39;00m c_void_p, c_char_p, c_bool, POINTER\n\u001b[0;32m----> 3\u001b[0m \u001b[38;5;28;01mfrom\u001b[39;00m \u001b[38;5;21;01mllvmlite\u001b[39;00m\u001b[38;5;21;01m.\u001b[39;00m\u001b[38;5;21;01mbinding\u001b[39;00m \u001b[38;5;28;01mimport\u001b[39;00m ffi\n\u001b[1;32m      4\u001b[0m \u001b[38;5;28;01mfrom\u001b[39;00m \u001b[38;5;21;01mllvmlite\u001b[39;00m\u001b[38;5;21;01m.\u001b[39;00m\u001b[38;5;21;01mbinding\u001b[39;00m\u001b[38;5;21;01m.\u001b[39;00m\u001b[38;5;21;01mcommon\u001b[39;00m \u001b[38;5;28;01mimport\u001b[39;00m _encode_string\n\u001b[1;32m      7\u001b[0m \u001b[38;5;28;01mdef\u001b[39;00m \u001b[38;5;21maddress_of_symbol\u001b[39m(name):\n",
      "File \u001b[0;32m~/anaconda3/lib/python3.11/site-packages/llvmlite/binding/ffi.py:187\u001b[0m\n\u001b[1;32m    184\u001b[0m \u001b[38;5;28;01mexcept\u001b[39;00m \u001b[38;5;167;01mOSError\u001b[39;00m \u001b[38;5;28;01mas\u001b[39;00m e:\n\u001b[1;32m    185\u001b[0m     msg \u001b[38;5;241m=\u001b[39m \u001b[38;5;124mf\u001b[39m\u001b[38;5;124m\"\"\"\u001b[39m\u001b[38;5;124mCould not find/load shared object file: \u001b[39m\u001b[38;5;132;01m{\u001b[39;00m_lib_name\u001b[38;5;132;01m}\u001b[39;00m\n\u001b[1;32m    186\u001b[0m \u001b[38;5;124m Error was: \u001b[39m\u001b[38;5;132;01m{\u001b[39;00me\u001b[38;5;132;01m}\u001b[39;00m\u001b[38;5;124m\"\"\"\u001b[39m\n\u001b[0;32m--> 187\u001b[0m     \u001b[38;5;28;01mraise\u001b[39;00m \u001b[38;5;167;01mOSError\u001b[39;00m(msg)\n\u001b[1;32m    190\u001b[0m lib \u001b[38;5;241m=\u001b[39m _lib_wrapper(lib)\n\u001b[1;32m    193\u001b[0m \u001b[38;5;28;01mdef\u001b[39;00m \u001b[38;5;21mregister_lock_callback\u001b[39m(acq_fn, rel_fn):\n",
      "\u001b[0;31mOSError\u001b[0m: Could not find/load shared object file: libllvmlite.dylib\n Error was: dlopen(/Users/amin/anaconda3/lib/python3.11/site-packages/llvmlite/binding/libllvmlite.dylib, 0x0006): Library not loaded: @rpath/libLLVM-14.dylib\n  Referenced from: /Users/amin/anaconda3/lib/python3.11/site-packages/llvmlite/binding/libllvmlite.dylib\n  Reason: tried: '/Users/amin/anaconda3/lib/python3.11/site-packages/llvmlite/binding/../../../../libLLVM-14.dylib' (no such file), '/Users/amin/anaconda3/lib/python3.11/site-packages/llvmlite/binding/../../../../libLLVM-14.dylib' (no such file), '/Users/amin/anaconda3/lib/python3.11/lib-dynload/../../libLLVM-14.dylib' (no such file), '/Users/amin/anaconda3/bin/../lib/libLLVM-14.dylib' (no such file), '/usr/local/lib/libLLVM-14.dylib' (no such file), '/usr/lib/libLLVM-14.dylib' (no such file)"
     ]
    }
   ],
   "source": [
    "import faraway as fw\n",
    "import faraway.datasets.fat\n",
    "from l0bnb import fit_path\n",
    "\n",
    "# Load data\n",
    "fat = faraway.datasets.fat.load()\n",
    "fat\n",
    "\n",
    "# Explore dataset"
   ]
  },
  {
   "cell_type": "markdown",
   "id": "4ce0a547-a661-4953-93c2-1d851b5b906b",
   "metadata": {},
   "source": [
    "_(i)_ Using the `l0bnb` library, fit a best subset model with `brozek` (body fat) as the response, and all variables except for `free`, `siri`, and `density` as predictors. Provide the `nvmax` argument, with a value equal to the number of predictors."
   ]
  },
  {
   "cell_type": "code",
   "execution_count": 44,
   "id": "665d4f3d-5c0f-46a9-8a87-e513a9f94beb",
   "metadata": {},
   "outputs": [
    {
     "ename": "OSError",
     "evalue": "Could not find/load shared object file: libllvmlite.dylib\n Error was: dlopen(/Users/amin/anaconda3/lib/python3.11/site-packages/llvmlite/binding/libllvmlite.dylib, 0x0006): Library not loaded: @rpath/libLLVM-14.dylib\n  Referenced from: /Users/amin/anaconda3/lib/python3.11/site-packages/llvmlite/binding/libllvmlite.dylib\n  Reason: tried: '/Users/amin/anaconda3/lib/python3.11/site-packages/llvmlite/binding/../../../../libLLVM-14.dylib' (no such file), '/Users/amin/anaconda3/lib/python3.11/site-packages/llvmlite/binding/../../../../libLLVM-14.dylib' (no such file), '/Users/amin/anaconda3/lib/python3.11/lib-dynload/../../libLLVM-14.dylib' (no such file), '/Users/amin/anaconda3/bin/../lib/libLLVM-14.dylib' (no such file), '/usr/local/lib/libLLVM-14.dylib' (no such file), '/usr/lib/libLLVM-14.dylib' (no such file)",
     "output_type": "error",
     "traceback": [
      "\u001b[0;31m---------------------------------------------------------------------------\u001b[0m",
      "\u001b[0;31mOSError\u001b[0m                                   Traceback (most recent call last)",
      "File \u001b[0;32m~/anaconda3/lib/python3.11/site-packages/llvmlite/binding/ffi.py:180\u001b[0m\n\u001b[1;32m    179\u001b[0m _lib_handle \u001b[38;5;241m=\u001b[39m _importlib_resources_path(pkgname, _lib_name)\n\u001b[0;32m--> 180\u001b[0m lib \u001b[38;5;241m=\u001b[39m ctypes\u001b[38;5;241m.\u001b[39mCDLL(\u001b[38;5;28mstr\u001b[39m(_lib_handle\u001b[38;5;241m.\u001b[39m\u001b[38;5;21m__enter__\u001b[39m()))\n\u001b[1;32m    181\u001b[0m \u001b[38;5;66;03m# on windows file handles to the dll file remain open after\u001b[39;00m\n\u001b[1;32m    182\u001b[0m \u001b[38;5;66;03m# loading, therefore we can not exit the context manager\u001b[39;00m\n\u001b[1;32m    183\u001b[0m \u001b[38;5;66;03m# which might delete the file\u001b[39;00m\n",
      "File \u001b[0;32m~/anaconda3/lib/python3.11/ctypes/__init__.py:376\u001b[0m, in \u001b[0;36mCDLL.__init__\u001b[0;34m(self, name, mode, handle, use_errno, use_last_error, winmode)\u001b[0m\n\u001b[1;32m    375\u001b[0m \u001b[38;5;28;01mif\u001b[39;00m handle \u001b[38;5;129;01mis\u001b[39;00m \u001b[38;5;28;01mNone\u001b[39;00m:\n\u001b[0;32m--> 376\u001b[0m     \u001b[38;5;28mself\u001b[39m\u001b[38;5;241m.\u001b[39m_handle \u001b[38;5;241m=\u001b[39m _dlopen(\u001b[38;5;28mself\u001b[39m\u001b[38;5;241m.\u001b[39m_name, mode)\n\u001b[1;32m    377\u001b[0m \u001b[38;5;28;01melse\u001b[39;00m:\n",
      "\u001b[0;31mOSError\u001b[0m: dlopen(/Users/amin/anaconda3/lib/python3.11/site-packages/llvmlite/binding/libllvmlite.dylib, 0x0006): Library not loaded: @rpath/libLLVM-14.dylib\n  Referenced from: /Users/amin/anaconda3/lib/python3.11/site-packages/llvmlite/binding/libllvmlite.dylib\n  Reason: tried: '/Users/amin/anaconda3/lib/python3.11/site-packages/llvmlite/binding/../../../../libLLVM-14.dylib' (no such file), '/Users/amin/anaconda3/lib/python3.11/site-packages/llvmlite/binding/../../../../libLLVM-14.dylib' (no such file), '/Users/amin/anaconda3/lib/python3.11/lib-dynload/../../libLLVM-14.dylib' (no such file), '/Users/amin/anaconda3/bin/../lib/libLLVM-14.dylib' (no such file), '/usr/local/lib/libLLVM-14.dylib' (no such file), '/usr/lib/libLLVM-14.dylib' (no such file)",
      "\nDuring handling of the above exception, another exception occurred:\n",
      "\u001b[0;31mOSError\u001b[0m                                   Traceback (most recent call last)",
      "Cell \u001b[0;32mIn[44], line 2\u001b[0m\n\u001b[1;32m      1\u001b[0m \u001b[38;5;28;01mimport\u001b[39;00m \u001b[38;5;21;01mnumpy\u001b[39;00m \u001b[38;5;28;01mas\u001b[39;00m \u001b[38;5;21;01mnp\u001b[39;00m\n\u001b[0;32m----> 2\u001b[0m \u001b[38;5;28;01mfrom\u001b[39;00m \u001b[38;5;21;01ml0bnb\u001b[39;00m \u001b[38;5;28;01mimport\u001b[39;00m fit_path\n\u001b[1;32m      3\u001b[0m \u001b[38;5;28;01mfrom\u001b[39;00m \u001b[38;5;21;01ml0bnb\u001b[39;00m \u001b[38;5;28;01mimport\u001b[39;00m gen_synthetic\n",
      "File \u001b[0;32m~/anaconda3/lib/python3.11/site-packages/l0bnb/__init__.py:1\u001b[0m\n\u001b[0;32m----> 1\u001b[0m \u001b[38;5;28;01mfrom\u001b[39;00m \u001b[38;5;21;01m.\u001b[39;00m\u001b[38;5;21;01mregpath\u001b[39;00m \u001b[38;5;28;01mimport\u001b[39;00m fit_path\n\u001b[1;32m      2\u001b[0m \u001b[38;5;28;01mfrom\u001b[39;00m \u001b[38;5;21;01m.\u001b[39;00m\u001b[38;5;21;01mgensynthetic\u001b[39;00m \u001b[38;5;28;01mimport\u001b[39;00m gen_synthetic\n\u001b[1;32m      3\u001b[0m \u001b[38;5;28;01mfrom\u001b[39;00m \u001b[38;5;21;01m.\u001b[39;00m\u001b[38;5;21;01mtree\u001b[39;00m \u001b[38;5;28;01mimport\u001b[39;00m BNBTree\n",
      "File \u001b[0;32m~/anaconda3/lib/python3.11/site-packages/l0bnb/regpath.py:4\u001b[0m\n\u001b[1;32m      2\u001b[0m \u001b[38;5;28;01mimport\u001b[39;00m \u001b[38;5;21;01mnumpy\u001b[39;00m \u001b[38;5;28;01mas\u001b[39;00m \u001b[38;5;21;01mnp\u001b[39;00m\n\u001b[1;32m      3\u001b[0m \u001b[38;5;28;01mfrom\u001b[39;00m \u001b[38;5;21;01mscipy\u001b[39;00m \u001b[38;5;28;01mimport\u001b[39;00m optimize \u001b[38;5;28;01mas\u001b[39;00m sci_opt\n\u001b[0;32m----> 4\u001b[0m \u001b[38;5;28;01mfrom\u001b[39;00m \u001b[38;5;21;01m.\u001b[39;00m\u001b[38;5;21;01mtree\u001b[39;00m \u001b[38;5;28;01mimport\u001b[39;00m BNBTree\n\u001b[1;32m      7\u001b[0m \u001b[38;5;28;01mdef\u001b[39;00m \u001b[38;5;21mfit_path\u001b[39m(x,\n\u001b[1;32m      8\u001b[0m              y,\n\u001b[1;32m      9\u001b[0m              lambda_2\u001b[38;5;241m=\u001b[39m\u001b[38;5;241m0.01\u001b[39m,\n\u001b[0;32m   (...)\u001b[0m\n\u001b[1;32m     17\u001b[0m              time_limit\u001b[38;5;241m=\u001b[39m\u001b[38;5;241m86400\u001b[39m,\n\u001b[1;32m     18\u001b[0m              solver\u001b[38;5;241m=\u001b[39m\u001b[38;5;124m'\u001b[39m\u001b[38;5;124ml0bnb\u001b[39m\u001b[38;5;124m'\u001b[39m):\n\u001b[1;32m     19\u001b[0m \u001b[38;5;250m    \u001b[39m\u001b[38;5;124;03m\"\"\"\u001b[39;00m\n\u001b[1;32m     20\u001b[0m \u001b[38;5;124;03m    Solves the L0L2-regularized least squares problem over a sequence of\u001b[39;00m\n\u001b[1;32m     21\u001b[0m \u001b[38;5;124;03m    lambda_0's.\u001b[39;00m\n\u001b[0;32m   (...)\u001b[0m\n\u001b[1;32m     63\u001b[0m \u001b[38;5;124;03m                solution.\u001b[39;00m\n\u001b[1;32m     64\u001b[0m \u001b[38;5;124;03m    \"\"\"\u001b[39;00m\n",
      "File \u001b[0;32m~/anaconda3/lib/python3.11/site-packages/l0bnb/tree.py:8\u001b[0m\n\u001b[1;32m      4\u001b[0m \u001b[38;5;28;01mfrom\u001b[39;00m \u001b[38;5;21;01mcollections\u001b[39;00m \u001b[38;5;28;01mimport\u001b[39;00m namedtuple\n\u001b[1;32m      6\u001b[0m \u001b[38;5;28;01mimport\u001b[39;00m \u001b[38;5;21;01mnumpy\u001b[39;00m \u001b[38;5;28;01mas\u001b[39;00m \u001b[38;5;21;01mnp\u001b[39;00m\n\u001b[0;32m----> 8\u001b[0m \u001b[38;5;28;01mfrom\u001b[39;00m \u001b[38;5;21;01m.\u001b[39;00m\u001b[38;5;21;01mnode\u001b[39;00m \u001b[38;5;28;01mimport\u001b[39;00m Node, upper_bound_solve\n\u001b[1;32m      9\u001b[0m \u001b[38;5;28;01mfrom\u001b[39;00m \u001b[38;5;21;01m.\u001b[39;00m\u001b[38;5;21;01mutilities\u001b[39;00m \u001b[38;5;28;01mimport\u001b[39;00m branch, is_integral\n\u001b[1;32m     12\u001b[0m \u001b[38;5;28;01mclass\u001b[39;00m \u001b[38;5;21;01mBNBTree\u001b[39;00m:\n",
      "File \u001b[0;32m~/anaconda3/lib/python3.11/site-packages/l0bnb/node/__init__.py:1\u001b[0m\n\u001b[0;32m----> 1\u001b[0m \u001b[38;5;28;01mfrom\u001b[39;00m \u001b[38;5;21;01m.\u001b[39;00m\u001b[38;5;21;01mcore\u001b[39;00m \u001b[38;5;28;01mimport\u001b[39;00m Node\n\u001b[1;32m      2\u001b[0m \u001b[38;5;28;01mfrom\u001b[39;00m \u001b[38;5;21;01m.\u001b[39;00m\u001b[38;5;21;01m_utils\u001b[39;00m \u001b[38;5;28;01mimport\u001b[39;00m upper_bound_solve\n",
      "File \u001b[0;32m~/anaconda3/lib/python3.11/site-packages/l0bnb/node/core.py:5\u001b[0m\n\u001b[1;32m      1\u001b[0m \u001b[38;5;28;01mfrom\u001b[39;00m \u001b[38;5;21;01mcopy\u001b[39;00m \u001b[38;5;28;01mimport\u001b[39;00m deepcopy\n\u001b[1;32m      3\u001b[0m \u001b[38;5;28;01mimport\u001b[39;00m \u001b[38;5;21;01mnumpy\u001b[39;00m \u001b[38;5;28;01mas\u001b[39;00m \u001b[38;5;21;01mnp\u001b[39;00m\n\u001b[0;32m----> 5\u001b[0m \u001b[38;5;28;01mfrom\u001b[39;00m \u001b[38;5;21;01m.\u001b[39;00m\u001b[38;5;21;01m.\u001b[39;00m\u001b[38;5;21;01mrelaxation\u001b[39;00m \u001b[38;5;28;01mimport\u001b[39;00m cd_solve, l0gurobi, l0mosek\n\u001b[1;32m      6\u001b[0m \u001b[38;5;28;01mfrom\u001b[39;00m \u001b[38;5;21;01m.\u001b[39;00m\u001b[38;5;21;01m_utils\u001b[39;00m \u001b[38;5;28;01mimport\u001b[39;00m upper_bound_solve\n\u001b[1;32m      9\u001b[0m \u001b[38;5;28;01mclass\u001b[39;00m \u001b[38;5;21;01mNode\u001b[39;00m:\n",
      "File \u001b[0;32m~/anaconda3/lib/python3.11/site-packages/l0bnb/relaxation/__init__.py:3\u001b[0m\n\u001b[1;32m      1\u001b[0m \u001b[38;5;28;01mimport\u001b[39;00m \u001b[38;5;21;01mwarnings\u001b[39;00m\n\u001b[0;32m----> 3\u001b[0m \u001b[38;5;28;01mfrom\u001b[39;00m \u001b[38;5;21;01mnumba\u001b[39;00m\u001b[38;5;21;01m.\u001b[39;00m\u001b[38;5;21;01mcore\u001b[39;00m\u001b[38;5;21;01m.\u001b[39;00m\u001b[38;5;21;01merrors\u001b[39;00m \u001b[38;5;28;01mimport\u001b[39;00m NumbaDeprecationWarning, \\\n\u001b[1;32m      4\u001b[0m     NumbaPendingDeprecationWarning, NumbaPerformanceWarning\n\u001b[1;32m      6\u001b[0m warnings\u001b[38;5;241m.\u001b[39msimplefilter(\u001b[38;5;124m'\u001b[39m\u001b[38;5;124mignore\u001b[39m\u001b[38;5;124m'\u001b[39m, category\u001b[38;5;241m=\u001b[39mNumbaDeprecationWarning)\n\u001b[1;32m      7\u001b[0m warnings\u001b[38;5;241m.\u001b[39msimplefilter(\u001b[38;5;124m'\u001b[39m\u001b[38;5;124mignore\u001b[39m\u001b[38;5;124m'\u001b[39m, category\u001b[38;5;241m=\u001b[39mNumbaPendingDeprecationWarning)\n",
      "File \u001b[0;32m~/anaconda3/lib/python3.11/site-packages/numba/core/errors.py:11\u001b[0m\n\u001b[1;32m      9\u001b[0m \u001b[38;5;28;01mimport\u001b[39;00m \u001b[38;5;21;01msys\u001b[39;00m\n\u001b[1;32m     10\u001b[0m \u001b[38;5;28;01mimport\u001b[39;00m \u001b[38;5;21;01mwarnings\u001b[39;00m\n\u001b[0;32m---> 11\u001b[0m \u001b[38;5;28;01mimport\u001b[39;00m \u001b[38;5;21;01mnumba\u001b[39;00m\u001b[38;5;21;01m.\u001b[39;00m\u001b[38;5;21;01mcore\u001b[39;00m\u001b[38;5;21;01m.\u001b[39;00m\u001b[38;5;21;01mconfig\u001b[39;00m\n\u001b[1;32m     12\u001b[0m \u001b[38;5;28;01mimport\u001b[39;00m \u001b[38;5;21;01mnumpy\u001b[39;00m \u001b[38;5;28;01mas\u001b[39;00m \u001b[38;5;21;01mnp\u001b[39;00m\n\u001b[1;32m     13\u001b[0m \u001b[38;5;28;01mfrom\u001b[39;00m \u001b[38;5;21;01mcollections\u001b[39;00m \u001b[38;5;28;01mimport\u001b[39;00m defaultdict\n",
      "File \u001b[0;32m~/anaconda3/lib/python3.11/site-packages/numba/core/config.py:16\u001b[0m\n\u001b[1;32m     12\u001b[0m \u001b[38;5;28;01mexcept\u001b[39;00m \u001b[38;5;167;01mImportError\u001b[39;00m:\n\u001b[1;32m     13\u001b[0m     _HAVE_YAML \u001b[38;5;241m=\u001b[39m \u001b[38;5;28;01mFalse\u001b[39;00m\n\u001b[0;32m---> 16\u001b[0m \u001b[38;5;28;01mimport\u001b[39;00m \u001b[38;5;21;01mllvmlite\u001b[39;00m\u001b[38;5;21;01m.\u001b[39;00m\u001b[38;5;21;01mbinding\u001b[39;00m \u001b[38;5;28;01mas\u001b[39;00m \u001b[38;5;21;01mll\u001b[39;00m\n\u001b[1;32m     19\u001b[0m IS_WIN32 \u001b[38;5;241m=\u001b[39m sys\u001b[38;5;241m.\u001b[39mplatform\u001b[38;5;241m.\u001b[39mstartswith(\u001b[38;5;124m'\u001b[39m\u001b[38;5;124mwin32\u001b[39m\u001b[38;5;124m'\u001b[39m)\n\u001b[1;32m     20\u001b[0m IS_OSX \u001b[38;5;241m=\u001b[39m sys\u001b[38;5;241m.\u001b[39mplatform\u001b[38;5;241m.\u001b[39mstartswith(\u001b[38;5;124m'\u001b[39m\u001b[38;5;124mdarwin\u001b[39m\u001b[38;5;124m'\u001b[39m)\n",
      "File \u001b[0;32m~/anaconda3/lib/python3.11/site-packages/llvmlite/binding/__init__.py:4\u001b[0m\n\u001b[1;32m      1\u001b[0m \u001b[38;5;124;03m\"\"\"\u001b[39;00m\n\u001b[1;32m      2\u001b[0m \u001b[38;5;124;03mThings that rely on the LLVM library\u001b[39;00m\n\u001b[1;32m      3\u001b[0m \u001b[38;5;124;03m\"\"\"\u001b[39;00m\n\u001b[0;32m----> 4\u001b[0m \u001b[38;5;28;01mfrom\u001b[39;00m \u001b[38;5;21;01m.\u001b[39;00m\u001b[38;5;21;01mdylib\u001b[39;00m \u001b[38;5;28;01mimport\u001b[39;00m \u001b[38;5;241m*\u001b[39m\n\u001b[1;32m      5\u001b[0m \u001b[38;5;28;01mfrom\u001b[39;00m \u001b[38;5;21;01m.\u001b[39;00m\u001b[38;5;21;01mexecutionengine\u001b[39;00m \u001b[38;5;28;01mimport\u001b[39;00m \u001b[38;5;241m*\u001b[39m\n\u001b[1;32m      6\u001b[0m \u001b[38;5;28;01mfrom\u001b[39;00m \u001b[38;5;21;01m.\u001b[39;00m\u001b[38;5;21;01minitfini\u001b[39;00m \u001b[38;5;28;01mimport\u001b[39;00m \u001b[38;5;241m*\u001b[39m\n",
      "File \u001b[0;32m~/anaconda3/lib/python3.11/site-packages/llvmlite/binding/dylib.py:3\u001b[0m\n\u001b[1;32m      1\u001b[0m \u001b[38;5;28;01mfrom\u001b[39;00m \u001b[38;5;21;01mctypes\u001b[39;00m \u001b[38;5;28;01mimport\u001b[39;00m c_void_p, c_char_p, c_bool, POINTER\n\u001b[0;32m----> 3\u001b[0m \u001b[38;5;28;01mfrom\u001b[39;00m \u001b[38;5;21;01mllvmlite\u001b[39;00m\u001b[38;5;21;01m.\u001b[39;00m\u001b[38;5;21;01mbinding\u001b[39;00m \u001b[38;5;28;01mimport\u001b[39;00m ffi\n\u001b[1;32m      4\u001b[0m \u001b[38;5;28;01mfrom\u001b[39;00m \u001b[38;5;21;01mllvmlite\u001b[39;00m\u001b[38;5;21;01m.\u001b[39;00m\u001b[38;5;21;01mbinding\u001b[39;00m\u001b[38;5;21;01m.\u001b[39;00m\u001b[38;5;21;01mcommon\u001b[39;00m \u001b[38;5;28;01mimport\u001b[39;00m _encode_string\n\u001b[1;32m      7\u001b[0m \u001b[38;5;28;01mdef\u001b[39;00m \u001b[38;5;21maddress_of_symbol\u001b[39m(name):\n",
      "File \u001b[0;32m~/anaconda3/lib/python3.11/site-packages/llvmlite/binding/ffi.py:187\u001b[0m\n\u001b[1;32m    184\u001b[0m \u001b[38;5;28;01mexcept\u001b[39;00m \u001b[38;5;167;01mOSError\u001b[39;00m \u001b[38;5;28;01mas\u001b[39;00m e:\n\u001b[1;32m    185\u001b[0m     msg \u001b[38;5;241m=\u001b[39m \u001b[38;5;124mf\u001b[39m\u001b[38;5;124m\"\"\"\u001b[39m\u001b[38;5;124mCould not find/load shared object file: \u001b[39m\u001b[38;5;132;01m{\u001b[39;00m_lib_name\u001b[38;5;132;01m}\u001b[39;00m\n\u001b[1;32m    186\u001b[0m \u001b[38;5;124m Error was: \u001b[39m\u001b[38;5;132;01m{\u001b[39;00me\u001b[38;5;132;01m}\u001b[39;00m\u001b[38;5;124m\"\"\"\u001b[39m\n\u001b[0;32m--> 187\u001b[0m     \u001b[38;5;28;01mraise\u001b[39;00m \u001b[38;5;167;01mOSError\u001b[39;00m(msg)\n\u001b[1;32m    190\u001b[0m lib \u001b[38;5;241m=\u001b[39m _lib_wrapper(lib)\n\u001b[1;32m    193\u001b[0m \u001b[38;5;28;01mdef\u001b[39;00m \u001b[38;5;21mregister_lock_callback\u001b[39m(acq_fn, rel_fn):\n",
      "\u001b[0;31mOSError\u001b[0m: Could not find/load shared object file: libllvmlite.dylib\n Error was: dlopen(/Users/amin/anaconda3/lib/python3.11/site-packages/llvmlite/binding/libllvmlite.dylib, 0x0006): Library not loaded: @rpath/libLLVM-14.dylib\n  Referenced from: /Users/amin/anaconda3/lib/python3.11/site-packages/llvmlite/binding/libllvmlite.dylib\n  Reason: tried: '/Users/amin/anaconda3/lib/python3.11/site-packages/llvmlite/binding/../../../../libLLVM-14.dylib' (no such file), '/Users/amin/anaconda3/lib/python3.11/site-packages/llvmlite/binding/../../../../libLLVM-14.dylib' (no such file), '/Users/amin/anaconda3/lib/python3.11/lib-dynload/../../libLLVM-14.dylib' (no such file), '/Users/amin/anaconda3/bin/../lib/libLLVM-14.dylib' (no such file), '/usr/local/lib/libLLVM-14.dylib' (no such file), '/usr/lib/libLLVM-14.dylib' (no such file)"
     ]
    }
   ],
   "source": [
    "import numpy as np\n",
    "from l0bnb import fit_path\n",
    "from l0bnb import gen_synthetic"
   ]
  },
  {
   "cell_type": "markdown",
   "id": "fe6eaef7-44fe-497a-a147-63df65ef0a5d",
   "metadata": {},
   "source": [
    "The plot below shows (unadjusted) $R^2$ estimates for all subset models.\n",
    "\n",
    "![](https://drive.google.com/uc?id=1omSUpJrARF6gYnZ2hWv61EWbdlWklBdG)"
   ]
  },
  {
   "cell_type": "code",
   "execution_count": null,
   "id": "be3e74cc-7a03-4828-a548-109f46f32cbf",
   "metadata": {},
   "outputs": [],
   "source": [
    "# example code\n",
    "\n",
    "# plt.plot(best_sub['num_vars'], best_sub['rsq'], marker='o', linestyle='-')\n",
    "# plt.xlabel('Number of Variables/Predictors')\n",
    "# plt.ylabel('R-squared value')\n",
    "# plt.title('R-squared vs Number of Variables/Predictors')\n",
    "# plt.show()"
   ]
  },
  {
   "cell_type": "markdown",
   "id": "6b21426b-1409-41a1-a83f-b66ae7bae891",
   "metadata": {},
   "source": [
    "_(ii)_ Why can't we use (unadjusted) $R^2$ estimates to select the best model? \n",
    "\n",
    "_(iii)_ Create a plot similar to that above, but showing adjusted $R^2$. Add a coloured point, highlighting the number of variables/predictors with the most desirable adjusted $R^2$ value"
   ]
  },
  {
   "cell_type": "code",
   "execution_count": null,
   "id": "3e248942-6284-40c2-85b5-6cd73f759a7c",
   "metadata": {},
   "outputs": [],
   "source": [
    "# Add your code here"
   ]
  },
  {
   "cell_type": "markdown",
   "id": "e9a842b4-4fff-4aae-9ff6-14a7726cdc4d",
   "metadata": {},
   "source": [
    "_(iv)_  Write code to pull out the highest and lowest $R^2$ values (Hint: use the `max` and `min` functions.). Does the difference in percent variance explained (i.e., $R^2$) appear to be meaningful? (No statistics needed: interpret in the context of the `fat` dataset)."
   ]
  },
  {
   "cell_type": "code",
   "execution_count": null,
   "id": "c13496de-4a12-4554-a84d-72d600928d69",
   "metadata": {},
   "outputs": [],
   "source": [
    "# Add your code here"
   ]
  },
  {
   "cell_type": "markdown",
   "id": "b34735c0-7ad4-4ff9-8a34-c199b21df56b",
   "metadata": {},
   "source": [
    "_(v)_ What is the best model according to BIC?"
   ]
  },
  {
   "cell_type": "code",
   "execution_count": null,
   "id": "ce25fe5c-a660-4013-9ce9-0260961e6afb",
   "metadata": {},
   "outputs": [],
   "source": [
    "# Add your code here"
   ]
  },
  {
   "cell_type": "markdown",
   "id": "9970f8af-0b30-4f3d-b60a-4a02d6bea7df",
   "metadata": {},
   "source": [
    "_(vi)_ What is the best model according to $C_p$? "
   ]
  },
  {
   "cell_type": "code",
   "execution_count": null,
   "id": "cd90ee40-095c-4181-ab6f-d30db316429a",
   "metadata": {},
   "outputs": [],
   "source": [
    "# Add your code here"
   ]
  },
  {
   "cell_type": "markdown",
   "id": "303cda10-24d4-45e6-9710-1367b3b482cd",
   "metadata": {},
   "source": [
    "_(vii)_ Are you surprised that BIC and $C_p$ compute differing estimates of prediction error? Why or why not?\n",
    "\n",
    "Let's be more rigorous, and compute a direct (cf. indirect) estimate of prediction error via k-fold cross validation. The `predict_regsubsets` function provided below achieves something comparable to `predict` (in brief, it extracts the fitted coefficients for each model size and then multiplies the corresponding predictors for each test observations). <u> This code does not need to be edited.</u>"
   ]
  },
  {
   "cell_type": "code",
   "execution_count": null,
   "id": "a602f4aa-096a-448c-9105-52686e17bd45",
   "metadata": {},
   "outputs": [],
   "source": [
    "def predict_regsubsets(object, newdata, id):\n",
    "    form = object['call'][1]  # pull out the formula\n",
    "    mat = pd.get_dummies(newdata, drop_first=True)  # make a matrix\n",
    "    coefs = object['coef'][id]  # pull out coefficients\n",
    "    vars = list(coefs.keys())  # pull out associated predictors\n",
    "    result = np.dot(mat[vars], coefs)  # matrix multiplication\n",
    "    return result"
   ]
  },
  {
   "cell_type": "markdown",
   "id": "c7b4bd9e-85c7-4eee-b67c-d237999787b2",
   "metadata": {},
   "source": [
    "Now, we need to define several variables/objects for our k-fold cross validation. In the code chunk below:  \n",
    "\n",
    "_(viii)_ Define a variable `k`, with a value of 5. \n",
    "\n",
    "_(ix)_ Define a variable `n`, with a value reflecting the number of observations in our data.\n",
    "\n",
    "_(x)_ Define a variable `p`, with a value reflecting the maximum number of predictors in our subset selection/\n",
    "\n",
    "_(xi)_ Define a variable `kfolds`. This variable is a vector, containing randomly selected integers from 1 through k, and should be of length n. (Hint: review the `sample` and `rep` functions.)\n",
    "\n",
    "_(xii)_ Define a variable `cv_error`. This variable is a matrix. Its number of rows should be equal to k, and it number of columns should be equal to p. (You may choose to fill the matrix with NAs or 0 values or something else; these will be overwritten.)\n"
   ]
  },
  {
   "cell_type": "code",
   "execution_count": null,
   "id": "2b4be629-54b0-4b5c-b663-953eb74f855e",
   "metadata": {},
   "outputs": [],
   "source": [
    "# define k\n",
    "\n",
    "# define n\n",
    "\n",
    "# define p\n",
    "\n",
    "# define folds\n",
    "\n",
    "# define cv_error"
   ]
  },
  {
   "cell_type": "markdown",
   "id": "38eb706c-0f8a-4b49-b0d4-4415dc445ebf",
   "metadata": {},
   "source": [
    "Great! Now that we have our required variables/objects, and the (provided) `skm.cross_val_predict()` function, we must write a for loop that will (a) fit our model on all but the held-out (test) fold, (b) predict the response in the held-out fold, and compute MSE in the held-out fold.\n",
    "\n",
    "The image below shows most of this code, with some crucial bits occluded. The occluded bits are 5 variables defined above: `k`, `regsubsets`, `p`, `folds`, and `cv_error`. ![](https://drive.google.com/uc?id=1MdbaIhq82sU-230WX8qi1vR7T8hCJBV7)\n",
    "\n",
    "_(xiii)_ Type this code into the chunk below, filling in the missing bits. (You are free to omit comments and change the code structure -- as long as it works!)"
   ]
  },
  {
   "cell_type": "code",
   "execution_count": null,
   "id": "7dd89689-e5cc-41f9-934a-22264f82d24a",
   "metadata": {},
   "outputs": [],
   "source": [
    "# Add your code here"
   ]
  },
  {
   "cell_type": "markdown",
   "id": "8c81dbd4-0013-49fb-ad8a-0ddd19c4c668",
   "metadata": {},
   "source": [
    "_(xiv)_ Review your `cv_error` matrix. It should contain 14 columns (one for each number of predictors) and 5 rows (one for each of the k-folds). The contained values are MSE estimates. Find the mean of the MSE estimates, for each number of predictors."
   ]
  },
  {
   "cell_type": "code",
   "execution_count": null,
   "id": "ea153890-d13f-4cfd-a0f3-0f85c6a402d8",
   "metadata": {},
   "outputs": [],
   "source": [
    "# Add your code here"
   ]
  },
  {
   "cell_type": "markdown",
   "id": "7eb3d08c-e60f-4c31-8933-d27494375274",
   "metadata": {},
   "source": [
    "_(BONUS)_. The \"one-standard-error rule\" states that if there are several models with similar estimates of test MSE, we can choose between them by: (a) calculating the MSE standard error model (number of predictors), (b) consider all models with an MSE within one standard error of the model with the smallest MSE, and (c) from the models within this band, select the one with the smallest number of predictors. Perform computations over `cv_error` to select the ideal number of predictors, in accordance with the \"one-standard-error rule\"."
   ]
  },
  {
   "cell_type": "code",
   "execution_count": null,
   "id": "02dcd11c-98a1-4cb6-9388-dac56b7c90d9",
   "metadata": {},
   "outputs": [],
   "source": [
    "# Add your code here"
   ]
  },
  {
   "cell_type": "code",
   "execution_count": null,
   "id": "27bc63e5",
   "metadata": {},
   "outputs": [],
   "source": []
  }
 ],
 "metadata": {
  "kernelspec": {
   "display_name": "Python 3 (ipykernel)",
   "language": "python",
   "name": "python3"
  },
  "language_info": {
   "codemirror_mode": {
    "name": "ipython",
    "version": 3
   },
   "file_extension": ".py",
   "mimetype": "text/x-python",
   "name": "python",
   "nbconvert_exporter": "python",
   "pygments_lexer": "ipython3",
   "version": "3.11.5"
  },
  "vscode": {
   "interpreter": {
    "hash": "497a84dc8fec8cf8d24e7e87b6d954c9a18a327edc66feb9b9ea7e9e72cc5c7e"
   }
  }
 },
 "nbformat": 4,
 "nbformat_minor": 5
}
