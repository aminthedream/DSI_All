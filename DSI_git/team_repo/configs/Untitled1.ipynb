{
 "cells": [
  {
   "cell_type": "code",
   "execution_count": 28,
   "id": "1f829b3b",
   "metadata": {},
   "outputs": [],
   "source": [
    "import ISLP\n",
    "import seaborn as sns\n",
    "from ISLP import load_data\n",
    "import statsmodels.api as sm\n",
    "from sklearn.metrics import confusion_matrix, accuracy_score\n",
    "from sklearn.discriminant_analysis import LinearDiscriminantAnalysis\n",
    "from sklearn.discriminant_analysis import QuadraticDiscriminantAnalysis\n",
    "from sklearn.neighbors import KNeighborsClassifier\n",
    "from sklearn.naive_bayes import GaussianNB\n",
    "from sklearn.model_selection import train_test_split\n",
    "from sklearn.linear_model import LogisticRegression\n",
    "from sklearn.metrics import accuracy_score\n",
    "from sklearn.preprocessing import StandardScaler\n",
    "import pandas as pd\n",
    "from sklearn.model_selection import train_test_split\n",
    "from sklearn.linear_model import LogisticRegression\n",
    "from sklearn.metrics import accuracy_score\n",
    "from sklearn.preprocessing import StandardScaler, LabelEncoder, OneHotEncoder\n",
    "import pandas as pd"
   ]
  },
  {
   "cell_type": "code",
   "execution_count": 8,
   "id": "50e6fdc3",
   "metadata": {},
   "outputs": [],
   "source": [
    "Default = load_data('Default')"
   ]
  },
  {
   "cell_type": "code",
   "execution_count": 9,
   "id": "472c55c9",
   "metadata": {},
   "outputs": [
    {
     "data": {
      "text/html": [
       "<div>\n",
       "<style scoped>\n",
       "    .dataframe tbody tr th:only-of-type {\n",
       "        vertical-align: middle;\n",
       "    }\n",
       "\n",
       "    .dataframe tbody tr th {\n",
       "        vertical-align: top;\n",
       "    }\n",
       "\n",
       "    .dataframe thead th {\n",
       "        text-align: right;\n",
       "    }\n",
       "</style>\n",
       "<table border=\"1\" class=\"dataframe\">\n",
       "  <thead>\n",
       "    <tr style=\"text-align: right;\">\n",
       "      <th></th>\n",
       "      <th>default</th>\n",
       "      <th>student</th>\n",
       "      <th>balance</th>\n",
       "      <th>income</th>\n",
       "    </tr>\n",
       "  </thead>\n",
       "  <tbody>\n",
       "    <tr>\n",
       "      <th>0</th>\n",
       "      <td>No</td>\n",
       "      <td>No</td>\n",
       "      <td>729.526495</td>\n",
       "      <td>44361.625074</td>\n",
       "    </tr>\n",
       "    <tr>\n",
       "      <th>1</th>\n",
       "      <td>No</td>\n",
       "      <td>Yes</td>\n",
       "      <td>817.180407</td>\n",
       "      <td>12106.134700</td>\n",
       "    </tr>\n",
       "    <tr>\n",
       "      <th>2</th>\n",
       "      <td>No</td>\n",
       "      <td>No</td>\n",
       "      <td>1073.549164</td>\n",
       "      <td>31767.138947</td>\n",
       "    </tr>\n",
       "    <tr>\n",
       "      <th>3</th>\n",
       "      <td>No</td>\n",
       "      <td>No</td>\n",
       "      <td>529.250605</td>\n",
       "      <td>35704.493935</td>\n",
       "    </tr>\n",
       "    <tr>\n",
       "      <th>4</th>\n",
       "      <td>No</td>\n",
       "      <td>No</td>\n",
       "      <td>785.655883</td>\n",
       "      <td>38463.495879</td>\n",
       "    </tr>\n",
       "    <tr>\n",
       "      <th>...</th>\n",
       "      <td>...</td>\n",
       "      <td>...</td>\n",
       "      <td>...</td>\n",
       "      <td>...</td>\n",
       "    </tr>\n",
       "    <tr>\n",
       "      <th>9995</th>\n",
       "      <td>No</td>\n",
       "      <td>No</td>\n",
       "      <td>711.555020</td>\n",
       "      <td>52992.378914</td>\n",
       "    </tr>\n",
       "    <tr>\n",
       "      <th>9996</th>\n",
       "      <td>No</td>\n",
       "      <td>No</td>\n",
       "      <td>757.962918</td>\n",
       "      <td>19660.721768</td>\n",
       "    </tr>\n",
       "    <tr>\n",
       "      <th>9997</th>\n",
       "      <td>No</td>\n",
       "      <td>No</td>\n",
       "      <td>845.411989</td>\n",
       "      <td>58636.156984</td>\n",
       "    </tr>\n",
       "    <tr>\n",
       "      <th>9998</th>\n",
       "      <td>No</td>\n",
       "      <td>No</td>\n",
       "      <td>1569.009053</td>\n",
       "      <td>36669.112365</td>\n",
       "    </tr>\n",
       "    <tr>\n",
       "      <th>9999</th>\n",
       "      <td>No</td>\n",
       "      <td>Yes</td>\n",
       "      <td>200.922183</td>\n",
       "      <td>16862.952321</td>\n",
       "    </tr>\n",
       "  </tbody>\n",
       "</table>\n",
       "<p>10000 rows × 4 columns</p>\n",
       "</div>"
      ],
      "text/plain": [
       "     default student      balance        income\n",
       "0         No      No   729.526495  44361.625074\n",
       "1         No     Yes   817.180407  12106.134700\n",
       "2         No      No  1073.549164  31767.138947\n",
       "3         No      No   529.250605  35704.493935\n",
       "4         No      No   785.655883  38463.495879\n",
       "...      ...     ...          ...           ...\n",
       "9995      No      No   711.555020  52992.378914\n",
       "9996      No      No   757.962918  19660.721768\n",
       "9997      No      No   845.411989  58636.156984\n",
       "9998      No      No  1569.009053  36669.112365\n",
       "9999      No     Yes   200.922183  16862.952321\n",
       "\n",
       "[10000 rows x 4 columns]"
      ]
     },
     "execution_count": 9,
     "metadata": {},
     "output_type": "execute_result"
    }
   ],
   "source": [
    "Default"
   ]
  },
  {
   "cell_type": "code",
   "execution_count": 17,
   "id": "a539c0c8",
   "metadata": {},
   "outputs": [
    {
     "data": {
      "text/plain": [
       "0.9695"
      ]
     },
     "execution_count": 17,
     "metadata": {},
     "output_type": "execute_result"
    }
   ],
   "source": [
    "X = Default[['income', 'balance']]\n",
    "y = Default['default']\n",
    "\n",
    "X_train, X_test, y_train, y_test = train_test_split(X, y, test_size=0.2, random_state=42)\n",
    "scaler = StandardScaler()\n",
    "X_train_scaled = scaler.fit_transform(X_train)\n",
    "X_test_scaled = scaler.transform(X_test)\n",
    "\n",
    "model = LogisticRegression(random_state=42)\n",
    "\n",
    "model.fit(X_train_scaled, y_train)\n",
    "y_pred = model.predict(X_test_scaled)\n",
    "score = accuracy_score(y_test, y_pred)\n",
    "score"
   ]
  },
  {
   "cell_type": "code",
   "execution_count": 24,
   "id": "715f8523",
   "metadata": {},
   "outputs": [
    {
     "data": {
      "text/plain": [
       "0.03049999999999997"
      ]
     },
     "execution_count": 24,
     "metadata": {},
     "output_type": "execute_result"
    }
   ],
   "source": [
    "label_encoder = LabelEncoder()\n",
    "y = label_encoder.fit_transform(y)\n",
    "X_train, X_val, y_train, y_val = train_test_split(X, y, test_size=0.2, random_state=42)\n",
    "\n",
    "scaler = StandardScaler()\n",
    "X_train_scaled = scaler.fit_transform(X_train)\n",
    "X_val_scaled = scaler.transform(X_val)\n",
    "\n",
    "#Fit the model on the training data\n",
    "model.fit(X_train_scaled, y_train)\n",
    "\n",
    "#predictions on the validation set\n",
    "y_val_pred_proba = model.predict_proba(X_val_scaled)[:, 1]  # Probability of belonging to class 1 (default)\n",
    "y_val_pred = (y_val_pred_proba > 0.5).astype(int)  # Convert to 0 or 1 based on threshold\n",
    "\n",
    "#validation set error\n",
    "validation_error = 1 - accuracy_score(y_val, y_val_pred)\n",
    "validation_error\n"
   ]
  },
  {
   "cell_type": "code",
   "execution_count": 26,
   "id": "99ac9aba",
   "metadata": {},
   "outputs": [
    {
     "name": "stdout",
     "output_type": "stream",
     "text": [
      "Iteration 1: Validation Set Error = 0.03\n",
      "Iteration 2: Validation Set Error = 0.03\n",
      "Iteration 3: Validation Set Error = 0.02\n",
      "\n",
      "Average Validation Set Error over 3 iterations: 0.03\n"
     ]
    }
   ],
   "source": [
    "#I searched on internet and chatGPT for this one! Sorry!\n",
    "no_iteration = 3\n",
    "validation_errors = []\n",
    "\n",
    "for iteration in range(num_iterations):\n",
    "    X_train, X_val, y_train, y_val = train_test_split(X, y, test_size=0.2, random_state=iteration * 10)\n",
    "    scaler = StandardScaler()\n",
    "    X_train_scaled = scaler.fit_transform(X_train)\n",
    "    X_val_scaled = scaler.transform(X_val)\n",
    "    model.fit(X_train_scaled, y_train)\n",
    "    y_val_pred_proba = model.predict_proba(X_val_scaled)[:, 1]  \n",
    "    y_val_pred = (y_val_pred_proba > 0.5).astype(int) \n",
    "    validation_error = 1 - accuracy_score(y_val, y_val_pred)\n",
    "    validation_errors.append(validation_error)\n",
    "    print(f\"Iteration {iteration + 1}: Validation Set Error = {validation_error:.2f}\")\n",
    "average_validation_error = sum(validation_errors) / num_iterations\n",
    "print(f\"\\nAverage Validation Set Error over {num_iterations} iterations: {average_validation_error:.2f}\")\n"
   ]
  },
  {
   "cell_type": "code",
   "execution_count": 31,
   "id": "70d7a275",
   "metadata": {},
   "outputs": [
    {
     "name": "stdout",
     "output_type": "stream",
     "text": [
      "Validation Set Error: 0.03\n"
     ]
    }
   ],
   "source": [
    "X = data[['income', 'balance', 'student']]\n",
    "y = data['default']\n",
    "\n",
    "label_encoder = LabelEncoder()\n",
    "y = label_encoder.fit_transform(y)\n",
    "\n",
    "\n",
    "onehot_encoder = OneHotEncoder(sparse=False, drop='first')  \n",
    "X_encoded = pd.get_dummies(X, columns=['student'], drop_first=True)\n",
    "\n",
    "X_train, X_val, y_train, y_val = train_test_split(X_encoded, y, test_size=0.2, random_state=42)\n",
    "\n",
    "scaler = StandardScaler()\n",
    "X_train_scaled = scaler.fit_transform(X_train)\n",
    "X_val_scaled = scaler.transform(X_val)\n",
    "\n",
    "model = LogisticRegression(random_state=42)\n",
    "model.fit(X_train_scaled, y_train)\n",
    "\n",
    "y_val_pred_proba = model.predict_proba(X_val_scaled)[:, 1]\n",
    "y_val_pred = (y_val_pred_proba > 0.5).astype(int) \n",
    "\n",
    "validation_error = 1 - accuracy_score(y_val, y_val_pred)\n",
    "print(f\"Validation Set Error: {validation_error:.2f}\")"
   ]
  },
  {
   "cell_type": "markdown",
   "id": "b9f63086",
   "metadata": {},
   "source": [
    "A random seed is like a starting point for a computer's randomness, ensuring that when a program uses random numbers, it produces the same sequence each time it starts, providing consistency and reproducibility in experiments or simulations."
   ]
  },
  {
   "cell_type": "markdown",
   "id": "fde7cdc5",
   "metadata": {},
   "source": [
    "In this exercise, I applied logistic regression to predict loan default, exploring the impact of different factors on model performance, such as income, balance, and student status, while emphasizing the importance of consistent results through the use of random seeds in data splitting."
   ]
  },
  {
   "cell_type": "markdown",
   "id": "f2abf51b",
   "metadata": {},
   "source": [
    "In a credit risk assessment context within the financial industry, this exercise could be applied to predict the likelihood of default on loans based on factors such as income, balance, and student status. From the logistic regression models we can get assist in making more better decisions about approving or denying loan applications, to finding out better risk management and financial stability."
   ]
  },
  {
   "cell_type": "code",
   "execution_count": null,
   "id": "d0f79e1f",
   "metadata": {},
   "outputs": [],
   "source": []
  }
 ],
 "metadata": {
  "kernelspec": {
   "display_name": "Python 3 (ipykernel)",
   "language": "python",
   "name": "python3"
  },
  "language_info": {
   "codemirror_mode": {
    "name": "ipython",
    "version": 3
   },
   "file_extension": ".py",
   "mimetype": "text/x-python",
   "name": "python",
   "nbconvert_exporter": "python",
   "pygments_lexer": "ipython3",
   "version": "3.11.5"
  }
 },
 "nbformat": 4,
 "nbformat_minor": 5
}
