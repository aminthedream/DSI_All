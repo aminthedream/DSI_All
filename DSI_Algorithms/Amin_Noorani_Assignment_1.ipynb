{
 "cells": [
  {
   "cell_type": "code",
   "execution_count": 2,
   "id": "644bfe2b",
   "metadata": {},
   "outputs": [
    {
     "data": {
      "text/plain": [
       "3"
      ]
     },
     "execution_count": 2,
     "metadata": {},
     "output_type": "execute_result"
    }
   ],
   "source": [
    "(hash('Amin')%3)+1"
   ]
  },
  {
   "cell_type": "markdown",
   "id": "656c4435",
   "metadata": {},
   "source": [
    "Imagine you have a list of numbers, starting from 0 and going up to a certain number n. Some numbers in that list might be missing. We need to figure out which ones are missing and give them back. But if no numbers are missing, we'll just say \"none missing\"."
   ]
  },
  {
   "cell_type": "markdown",
   "id": "5aec0866",
   "metadata": {},
   "source": [
    "New Examples:\n",
    "\n",
    "Imagine you have a list like [1, 3, 4]. You'd look at it and realize that 0, 2 are missing.\n",
    "\n",
    "Another list might be [0, 1, 1, 4]. Here, 2, 3 are missing.\n",
    "\n"
   ]
  },
  {
   "cell_type": "code",
   "execution_count": 10,
   "id": "819beeb4",
   "metadata": {},
   "outputs": [],
   "source": [
    "def missing_num(nums):\n",
    "    n = len(nums)\n",
    "    seen = set(nums)\n",
    "    missing = []\n",
    "    for i in range(n):\n",
    "        if i not in seen:\n",
    "            missing.append(i)\n",
    "    return missing if missing else -1"
   ]
  },
  {
   "cell_type": "markdown",
   "id": "aa412eb5",
   "metadata": {},
   "source": [
    "Explanation of the solution:\n",
    "\n",
    "First, we count how many numbers we have in our list.\n",
    "Then, we look through the list to see which numbers we have.\n",
    "We go through each number from 0 to n-1 (where n is the total number of elements in our list).\n",
    "If a number from 0 to n-1 isn't in the list, we add it to our list of missing numbers.\n",
    "Finally, if we found any missing numbers, we return them. If not, we say \"none missing\"."
   ]
  },
  {
   "cell_type": "markdown",
   "id": "c9e24d30",
   "metadata": {},
   "source": [
    "Time and space complexity:\n",
    "\n",
    "Time complexity: O(n) - We look through the list once.\n",
    "Space complexity: O(n) - We keep track of seen numbers in a set, which could have up to n elements."
   ]
  },
  {
   "cell_type": "markdown",
   "id": "65ed8a92",
   "metadata": {},
   "source": [
    "Alternative solution:\n",
    "\n",
    "Another way to do this involves sorting the list and then checking which numbers are missing. "
   ]
  },
  {
   "cell_type": "code",
   "execution_count": 9,
   "id": "4355f120",
   "metadata": {},
   "outputs": [
    {
     "name": "stdout",
     "output_type": "stream",
     "text": [
      "1: Input [0, 2], Output: [1]\n",
      "2: Input [5, 0, 1], Output: [2]\n",
      "3: Input [6, 8, 2, 3, 5, 7, 0, 1, 10], Output: [4]\n",
      "4: Input [1, 3, 4], Output: [0, 2]\n",
      "5: Input [0, 1, 1, 4], Output: [2, 3]\n"
     ]
    }
   ],
   "source": [
    "def missing_num(nums):\n",
    "    n = len(nums)\n",
    "    seen = set(nums)\n",
    "    missing = []\n",
    "    for i in range(n):\n",
    "        if i not in seen:\n",
    "            missing.append(i)\n",
    "    return missing if missing else -1\n",
    "\n",
    "# Test cases\n",
    "test_cases = [\n",
    "    [0, 2],\n",
    "    [5, 0, 1],\n",
    "    [6, 8, 2, 3, 5, 7, 0, 1, 10],\n",
    "    [1, 3, 4],\n",
    "    [0, 1, 1, 4]\n",
    "]\n",
    "\n",
    "for idx, nums in enumerate(test_cases):\n",
    "    result = missing_num(nums)\n",
    "    print(f\"{idx + 1}: Input {nums}, Output: {result}\")\n"
   ]
  },
  {
   "cell_type": "code",
   "execution_count": null,
   "id": "8606159f",
   "metadata": {},
   "outputs": [],
   "source": []
  }
 ],
 "metadata": {
  "kernelspec": {
   "display_name": "Python 3 (ipykernel)",
   "language": "python",
   "name": "python3"
  },
  "language_info": {
   "codemirror_mode": {
    "name": "ipython",
    "version": 3
   },
   "file_extension": ".py",
   "mimetype": "text/x-python",
   "name": "python",
   "nbconvert_exporter": "python",
   "pygments_lexer": "ipython3",
   "version": "3.11.5"
  }
 },
 "nbformat": 4,
 "nbformat_minor": 5
}
